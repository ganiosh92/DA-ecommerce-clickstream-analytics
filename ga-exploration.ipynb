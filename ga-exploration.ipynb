{
 "cells": [
  {
   "cell_type": "code",
   "execution_count": 1,
   "id": "94d6fd97",
   "metadata": {
    "_cell_guid": "b1076dfc-b9ad-4769-8c92-a6c4dae69d19",
    "_uuid": "8f2839f25d086af736a60e9eeb907d3b93b6e0e5",
    "execution": {
     "iopub.execute_input": "2023-12-29T20:36:24.980791Z",
     "iopub.status.busy": "2023-12-29T20:36:24.980371Z",
     "iopub.status.idle": "2023-12-29T20:36:25.427799Z",
     "shell.execute_reply": "2023-12-29T20:36:25.426673Z"
    },
    "papermill": {
     "duration": 0.457639,
     "end_time": "2023-12-29T20:36:25.430473",
     "exception": false,
     "start_time": "2023-12-29T20:36:24.972834",
     "status": "completed"
    },
    "tags": []
   },
   "outputs": [],
   "source": [
    "# This Python 3 environment comes with many helpful analytics libraries installed\n",
    "# It is defined by the kaggle/python Docker image: https://github.com/kaggle/docker-python\n",
    "# For example, here's several helpful packages to load\n",
    "\n",
    "import numpy as np # linear algebra\n",
    "import pandas as pd # data processing, CSV file I/O (e.g. pd.read_csv)\n",
    "\n",
    "# Input data files are available in the read-only \"../input/\" directory\n",
    "# For example, running this (by clicking run or pressing Shift+Enter) will list all files under the input directory\n",
    "\n",
    "import os\n",
    "for dirname, _, filenames in os.walk('/kaggle/input'):\n",
    "    for filename in filenames:\n",
    "        print(os.path.join(dirname, filename))\n",
    "\n",
    "# You can write up to 20GB to the current directory (/kaggle/working/) that gets preserved as output when you create a version using \"Save & Run All\" \n",
    "# You can also write temporary files to /kaggle/temp/, but they won't be saved outside of the current session"
   ]
  },
  {
   "cell_type": "code",
   "execution_count": 2,
   "id": "b89cc311",
   "metadata": {
    "execution": {
     "iopub.execute_input": "2023-12-29T20:36:25.443071Z",
     "iopub.status.busy": "2023-12-29T20:36:25.442341Z",
     "iopub.status.idle": "2023-12-29T20:36:29.047465Z",
     "shell.execute_reply": "2023-12-29T20:36:29.046223Z"
    },
    "papermill": {
     "duration": 3.614258,
     "end_time": "2023-12-29T20:36:29.050236",
     "exception": false,
     "start_time": "2023-12-29T20:36:25.435978",
     "status": "completed"
    },
    "tags": []
   },
   "outputs": [
    {
     "name": "stdout",
     "output_type": "stream",
     "text": [
      "Using Kaggle's public dataset BigQuery integration.\n"
     ]
    }
   ],
   "source": [
    "import bq_helper\n",
    "from bq_helper import BigQueryHelper\n",
    "# https://www.kaggle.com/sohier/introduction-to-the-bq-helper-package\n",
    "google_analytics = bq_helper.BigQueryHelper(active_project=\"bigquery-public-data\",\n",
    "                                   dataset_name=\"data:google_analytics_sample\")"
   ]
  },
  {
   "cell_type": "code",
   "execution_count": 3,
   "id": "fee294d4",
   "metadata": {
    "execution": {
     "iopub.execute_input": "2023-12-29T20:36:29.062141Z",
     "iopub.status.busy": "2023-12-29T20:36:29.060768Z",
     "iopub.status.idle": "2023-12-29T20:36:29.068329Z",
     "shell.execute_reply": "2023-12-29T20:36:29.066937Z"
    },
    "papermill": {
     "duration": 0.015756,
     "end_time": "2023-12-29T20:36:29.070625",
     "exception": false,
     "start_time": "2023-12-29T20:36:29.054869",
     "status": "completed"
    },
    "tags": []
   },
   "outputs": [
    {
     "name": "stdout",
     "output_type": "stream",
     "text": [
      "Using Kaggle's public dataset BigQuery integration.\n"
     ]
    }
   ],
   "source": [
    "bq_assistant = BigQueryHelper(\"bigquery-public-data\", \"google_analytics_sample\")"
   ]
  },
  {
   "cell_type": "markdown",
   "id": "c84bb325",
   "metadata": {
    "papermill": {
     "duration": 0.004456,
     "end_time": "2023-12-29T20:36:29.079822",
     "exception": false,
     "start_time": "2023-12-29T20:36:29.075366",
     "status": "completed"
    },
    "tags": []
   },
   "source": [
    "# **Main Query**"
   ]
  },
  {
   "cell_type": "code",
   "execution_count": 4,
   "id": "c5d71760",
   "metadata": {
    "execution": {
     "iopub.execute_input": "2023-12-29T20:36:29.090986Z",
     "iopub.status.busy": "2023-12-29T20:36:29.090609Z",
     "iopub.status.idle": "2023-12-29T20:36:56.789812Z",
     "shell.execute_reply": "2023-12-29T20:36:56.788417Z"
    },
    "papermill": {
     "duration": 27.708714,
     "end_time": "2023-12-29T20:36:56.793087",
     "exception": false,
     "start_time": "2023-12-29T20:36:29.084373",
     "status": "completed"
    },
    "tags": []
   },
   "outputs": [
    {
     "data": {
      "text/html": [
       "<div>\n",
       "<style scoped>\n",
       "    .dataframe tbody tr th:only-of-type {\n",
       "        vertical-align: middle;\n",
       "    }\n",
       "\n",
       "    .dataframe tbody tr th {\n",
       "        vertical-align: top;\n",
       "    }\n",
       "\n",
       "    .dataframe thead th {\n",
       "        text-align: right;\n",
       "    }\n",
       "</style>\n",
       "<table border=\"1\" class=\"dataframe\">\n",
       "  <thead>\n",
       "    <tr style=\"text-align: right;\">\n",
       "      <th></th>\n",
       "      <th>session_id</th>\n",
       "      <th>channel_grouping</th>\n",
       "      <th>page_url</th>\n",
       "      <th>hit_type</th>\n",
       "      <th>event_action</th>\n",
       "      <th>event_value</th>\n",
       "      <th>hit_start_time</th>\n",
       "      <th>interaction_hit_flag</th>\n",
       "      <th>entrance_flag</th>\n",
       "      <th>exit_flag</th>\n",
       "      <th>product_name</th>\n",
       "      <th>transaction_id</th>\n",
       "      <th>transaction_sales_amount</th>\n",
       "      <th>transaction_currency_code</th>\n",
       "      <th>product_sku</th>\n",
       "      <th>product_name_1</th>\n",
       "      <th>product_quantity</th>\n",
       "      <th>product_price</th>\n",
       "      <th>product_revenue</th>\n",
       "    </tr>\n",
       "  </thead>\n",
       "  <tbody>\n",
       "    <tr>\n",
       "      <th>0</th>\n",
       "      <td>000722514342430295</td>\n",
       "      <td>NaN</td>\n",
       "      <td>/google+redesign/apparel</td>\n",
       "      <td>PAGE</td>\n",
       "      <td>None</td>\n",
       "      <td>NaN</td>\n",
       "      <td>18101</td>\n",
       "      <td>True</td>\n",
       "      <td>None</td>\n",
       "      <td>None</td>\n",
       "      <td>None</td>\n",
       "      <td>None</td>\n",
       "      <td>NaN</td>\n",
       "      <td>USD</td>\n",
       "      <td>GGOEGHPA002910</td>\n",
       "      <td>Google Trucker Hat</td>\n",
       "      <td>NaN</td>\n",
       "      <td>28.99</td>\n",
       "      <td>NaN</td>\n",
       "    </tr>\n",
       "    <tr>\n",
       "      <th>1</th>\n",
       "      <td>000722514342430295</td>\n",
       "      <td>NaN</td>\n",
       "      <td>/google+redesign/apparel</td>\n",
       "      <td>PAGE</td>\n",
       "      <td>None</td>\n",
       "      <td>NaN</td>\n",
       "      <td>18101</td>\n",
       "      <td>True</td>\n",
       "      <td>None</td>\n",
       "      <td>None</td>\n",
       "      <td>None</td>\n",
       "      <td>None</td>\n",
       "      <td>NaN</td>\n",
       "      <td>USD</td>\n",
       "      <td>GGOEYHPA003510</td>\n",
       "      <td>YouTube Trucker Hat</td>\n",
       "      <td>NaN</td>\n",
       "      <td>30.99</td>\n",
       "      <td>NaN</td>\n",
       "    </tr>\n",
       "    <tr>\n",
       "      <th>2</th>\n",
       "      <td>000722514342430295</td>\n",
       "      <td>NaN</td>\n",
       "      <td>/google+redesign/apparel</td>\n",
       "      <td>PAGE</td>\n",
       "      <td>None</td>\n",
       "      <td>NaN</td>\n",
       "      <td>18101</td>\n",
       "      <td>True</td>\n",
       "      <td>None</td>\n",
       "      <td>None</td>\n",
       "      <td>None</td>\n",
       "      <td>None</td>\n",
       "      <td>NaN</td>\n",
       "      <td>USD</td>\n",
       "      <td>GGOEGAAX0104</td>\n",
       "      <td>Google Men's 100% Cotton Short Sleeve Hero Tee...</td>\n",
       "      <td>NaN</td>\n",
       "      <td>16.99</td>\n",
       "      <td>NaN</td>\n",
       "    </tr>\n",
       "    <tr>\n",
       "      <th>3</th>\n",
       "      <td>000722514342430295</td>\n",
       "      <td>NaN</td>\n",
       "      <td>/google+redesign/apparel</td>\n",
       "      <td>PAGE</td>\n",
       "      <td>None</td>\n",
       "      <td>NaN</td>\n",
       "      <td>18101</td>\n",
       "      <td>True</td>\n",
       "      <td>None</td>\n",
       "      <td>None</td>\n",
       "      <td>None</td>\n",
       "      <td>None</td>\n",
       "      <td>NaN</td>\n",
       "      <td>USD</td>\n",
       "      <td>GGOEGAAX0105</td>\n",
       "      <td>Google Men's 100% Cotton Short Sleeve Hero Tee...</td>\n",
       "      <td>NaN</td>\n",
       "      <td>16.99</td>\n",
       "      <td>NaN</td>\n",
       "    </tr>\n",
       "    <tr>\n",
       "      <th>4</th>\n",
       "      <td>000722514342430295</td>\n",
       "      <td>NaN</td>\n",
       "      <td>/google+redesign/apparel</td>\n",
       "      <td>PAGE</td>\n",
       "      <td>None</td>\n",
       "      <td>NaN</td>\n",
       "      <td>18101</td>\n",
       "      <td>True</td>\n",
       "      <td>None</td>\n",
       "      <td>None</td>\n",
       "      <td>None</td>\n",
       "      <td>None</td>\n",
       "      <td>NaN</td>\n",
       "      <td>USD</td>\n",
       "      <td>GGOEGAAX0107</td>\n",
       "      <td>Google Men's 100% Cotton Short Sleeve Hero Tee...</td>\n",
       "      <td>NaN</td>\n",
       "      <td>16.99</td>\n",
       "      <td>NaN</td>\n",
       "    </tr>\n",
       "  </tbody>\n",
       "</table>\n",
       "</div>"
      ],
      "text/plain": [
       "           session_id  channel_grouping                  page_url hit_type  \\\n",
       "0  000722514342430295               NaN  /google+redesign/apparel     PAGE   \n",
       "1  000722514342430295               NaN  /google+redesign/apparel     PAGE   \n",
       "2  000722514342430295               NaN  /google+redesign/apparel     PAGE   \n",
       "3  000722514342430295               NaN  /google+redesign/apparel     PAGE   \n",
       "4  000722514342430295               NaN  /google+redesign/apparel     PAGE   \n",
       "\n",
       "  event_action  event_value  hit_start_time  interaction_hit_flag  \\\n",
       "0         None          NaN           18101                  True   \n",
       "1         None          NaN           18101                  True   \n",
       "2         None          NaN           18101                  True   \n",
       "3         None          NaN           18101                  True   \n",
       "4         None          NaN           18101                  True   \n",
       "\n",
       "  entrance_flag exit_flag product_name transaction_id  \\\n",
       "0          None      None         None           None   \n",
       "1          None      None         None           None   \n",
       "2          None      None         None           None   \n",
       "3          None      None         None           None   \n",
       "4          None      None         None           None   \n",
       "\n",
       "   transaction_sales_amount transaction_currency_code     product_sku  \\\n",
       "0                       NaN                       USD  GGOEGHPA002910   \n",
       "1                       NaN                       USD  GGOEYHPA003510   \n",
       "2                       NaN                       USD    GGOEGAAX0104   \n",
       "3                       NaN                       USD    GGOEGAAX0105   \n",
       "4                       NaN                       USD    GGOEGAAX0107   \n",
       "\n",
       "                                      product_name_1  product_quantity  \\\n",
       "0                                 Google Trucker Hat               NaN   \n",
       "1                                YouTube Trucker Hat               NaN   \n",
       "2  Google Men's 100% Cotton Short Sleeve Hero Tee...               NaN   \n",
       "3  Google Men's 100% Cotton Short Sleeve Hero Tee...               NaN   \n",
       "4  Google Men's 100% Cotton Short Sleeve Hero Tee...               NaN   \n",
       "\n",
       "   product_price  product_revenue  \n",
       "0          28.99              NaN  \n",
       "1          30.99              NaN  \n",
       "2          16.99              NaN  \n",
       "3          16.99              NaN  \n",
       "4          16.99              NaN  "
      ]
     },
     "execution_count": 4,
     "metadata": {},
     "output_type": "execute_result"
    }
   ],
   "source": [
    "#MAIN QUERY\n",
    "main_query = \"\"\"SELECT \n",
    "                   session_id,\n",
    "                   session_bounce_count\n",
    "                   channel_grouping,\n",
    "                   page_url,\n",
    "                   hit_type,\n",
    "                   event_action,\n",
    "                   event_value,\n",
    "                   hit_start_time,\n",
    "                   interaction_hit_flag,\n",
    "                   entrance_flag,\n",
    "                   exit_flag,\n",
    "                   product_name,\n",
    "                   transaction_id,\n",
    "                   transaction_sales_amount,\n",
    "                   transaction_currency_code,\n",
    "                   product_array.productSKU as product_sku,\n",
    "                   product_array.v2ProductName as product_name,\n",
    "                   product_array.productQuantity as product_quantity,\n",
    "                   ROUND(product_array.productPrice/1000000,2) as product_price,\n",
    "                   ROUND(product_array.productRevenue/1000000,2) as product_revenue\n",
    "            FROM\n",
    "            (SELECT date, \n",
    "                   fullVisitorId as session_id,\n",
    "                   channelGrouping as channel_grouping,\n",
    "                   totals.bounces as session_bounce_count,\n",
    "                   hits.page.pagePath as page_url,\n",
    "                   hits.type as hit_type,\n",
    "                   hits.eventInfo.eventAction as event_action,\n",
    "                   hits.eventInfo.eventValue as event_value,\n",
    "                   hits.time as hit_start_time,\n",
    "                   hits.isInteraction as interaction_hit_flag,\n",
    "                   hits.isEntrance as entrance_flag,\n",
    "                   hits.isExit as exit_flag,\n",
    "                   hits.item.productName as product_name,\n",
    "                   hits.transaction.transactionID as transaction_id,\n",
    "                   hits.product as product_array,\n",
    "                   ROUND(hits.transaction.transactionRevenue/1000000,2) as transaction_sales_amount,\n",
    "                   hits.transaction.currencyCode as transaction_currency_code\n",
    "            FROM `bigquery-public-data.google_analytics_sample.ga_sessions_20160801` as GA,\n",
    "            UNNEST(GA.hits) as hits\n",
    "            ORDER BY session_id, hit_start_time ASC) as t CROSS JOIN UNNEST(t.product_array) as product_array;\"\"\"\n",
    "\n",
    "main_query = google_analytics.query_to_pandas_safe(main_query)\n",
    "\n",
    "main_query.head(5)"
   ]
  },
  {
   "cell_type": "markdown",
   "id": "9db7729b",
   "metadata": {
    "papermill": {
     "duration": 0.005102,
     "end_time": "2023-12-29T20:36:56.803824",
     "exception": false,
     "start_time": "2023-12-29T20:36:56.798722",
     "status": "completed"
    },
    "tags": []
   },
   "source": [
    "# Metric Calculations"
   ]
  },
  {
   "cell_type": "markdown",
   "id": "b24a6b24",
   "metadata": {
    "papermill": {
     "duration": 0.004786,
     "end_time": "2023-12-29T20:36:56.813678",
     "exception": false,
     "start_time": "2023-12-29T20:36:56.808892",
     "status": "completed"
    },
    "tags": []
   },
   "source": [
    "**Conversion Rate**"
   ]
  },
  {
   "cell_type": "code",
   "execution_count": 5,
   "id": "2d930133",
   "metadata": {
    "execution": {
     "iopub.execute_input": "2023-12-29T20:36:56.826286Z",
     "iopub.status.busy": "2023-12-29T20:36:56.825796Z",
     "iopub.status.idle": "2023-12-29T20:36:56.857239Z",
     "shell.execute_reply": "2023-12-29T20:36:56.855946Z"
    },
    "papermill": {
     "duration": 0.041024,
     "end_time": "2023-12-29T20:36:56.859736",
     "exception": false,
     "start_time": "2023-12-29T20:36:56.818712",
     "status": "completed"
    },
    "tags": []
   },
   "outputs": [
    {
     "name": "stdout",
     "output_type": "stream",
     "text": [
      "Comversion Rate: 3.83 %\n"
     ]
    }
   ],
   "source": [
    "#Conversion Rate\n",
    "df = main_query.groupby('session_id')['product_revenue'].sum().reset_index().sort_values(by = 'product_revenue', ascending = False)\n",
    "\n",
    "total_sessions = len(df)\n",
    "sessions_w_transactions = len(df.query('product_revenue!=0'))\n",
    "conversion_pct = round((sessions_w_transactions / total_sessions) * 100,2)\n",
    "\n",
    "print(\"Comversion Rate: \" + str(conversion_pct) + \" %\")"
   ]
  },
  {
   "cell_type": "markdown",
   "id": "949854d7",
   "metadata": {
    "papermill": {
     "duration": 0.006104,
     "end_time": "2023-12-29T20:36:56.871594",
     "exception": false,
     "start_time": "2023-12-29T20:36:56.865490",
     "status": "completed"
    },
    "tags": []
   },
   "source": [
    "**Bounce Rate**"
   ]
  },
  {
   "cell_type": "code",
   "execution_count": 6,
   "id": "b067f3dc",
   "metadata": {
    "execution": {
     "iopub.execute_input": "2023-12-29T20:36:56.885823Z",
     "iopub.status.busy": "2023-12-29T20:36:56.884390Z",
     "iopub.status.idle": "2023-12-29T20:36:59.867739Z",
     "shell.execute_reply": "2023-12-29T20:36:59.866004Z"
    },
    "papermill": {
     "duration": 2.993605,
     "end_time": "2023-12-29T20:36:59.870969",
     "exception": false,
     "start_time": "2023-12-29T20:36:56.877364",
     "status": "completed"
    },
    "tags": []
   },
   "outputs": [
    {
     "name": "stdout",
     "output_type": "stream",
     "text": [
      "Bounce Rate: 42.55%\n"
     ]
    }
   ],
   "source": [
    "#Bounce Rate - should be calculated at the page level\n",
    "#for simplicity let's calculate bounce rate of /home\n",
    "query = \"\"\" SELECT\n",
    "    CONCAT(fullVisitorId,visitId) as session_id,\n",
    "    sum(totals.bounces) as total_bounces_this_session\n",
    "  FROM\n",
    "    `bigquery-public-data.google_analytics_sample.ga_sessions_20160801` AS GA\n",
    "    GROUP BY session_id\n",
    "    ORDER BY total_bounces_this_session DESC\"\"\"\n",
    "\n",
    "total_sessions = google_analytics.query_to_pandas_safe(query)\n",
    "\n",
    "\n",
    "sessions_with_bounces = total_sessions[total_sessions['total_bounces_this_session']>0]\n",
    "bounce_rate = round((len(sessions_with_bounces) / len(total_sessions))*100,2)\n",
    "\n",
    "print(\"Bounce Rate: \" + str(bounce_rate) + \"%\")"
   ]
  },
  {
   "cell_type": "markdown",
   "id": "fcb1b6b8",
   "metadata": {
    "papermill": {
     "duration": 0.005231,
     "end_time": "2023-12-29T20:36:59.881952",
     "exception": false,
     "start_time": "2023-12-29T20:36:59.876721",
     "status": "completed"
    },
    "tags": []
   },
   "source": [
    "# Testing"
   ]
  },
  {
   "cell_type": "code",
   "execution_count": 7,
   "id": "00cb1441",
   "metadata": {
    "execution": {
     "iopub.execute_input": "2023-12-29T20:36:59.895631Z",
     "iopub.status.busy": "2023-12-29T20:36:59.895141Z",
     "iopub.status.idle": "2023-12-29T20:37:02.829866Z",
     "shell.execute_reply": "2023-12-29T20:37:02.828486Z"
    },
    "papermill": {
     "duration": 2.945516,
     "end_time": "2023-12-29T20:37:02.833176",
     "exception": false,
     "start_time": "2023-12-29T20:36:59.887660",
     "status": "completed"
    },
    "tags": []
   },
   "outputs": [
    {
     "data": {
      "text/html": [
       "<div>\n",
       "<style scoped>\n",
       "    .dataframe tbody tr th:only-of-type {\n",
       "        vertical-align: middle;\n",
       "    }\n",
       "\n",
       "    .dataframe tbody tr th {\n",
       "        vertical-align: top;\n",
       "    }\n",
       "\n",
       "    .dataframe thead th {\n",
       "        text-align: right;\n",
       "    }\n",
       "</style>\n",
       "<table border=\"1\" class=\"dataframe\">\n",
       "  <thead>\n",
       "    <tr style=\"text-align: right;\">\n",
       "      <th></th>\n",
       "      <th>pagePath</th>\n",
       "    </tr>\n",
       "  </thead>\n",
       "  <tbody>\n",
       "    <tr>\n",
       "      <th>0</th>\n",
       "      <td>/home</td>\n",
       "    </tr>\n",
       "    <tr>\n",
       "      <th>1</th>\n",
       "      <td>/google+redesign/apparel/men++s</td>\n",
       "    </tr>\n",
       "    <tr>\n",
       "      <th>2</th>\n",
       "      <td>/google+redesign/bags</td>\n",
       "    </tr>\n",
       "    <tr>\n",
       "      <th>3</th>\n",
       "      <td>/google+redesign/drinkware</td>\n",
       "    </tr>\n",
       "    <tr>\n",
       "      <th>4</th>\n",
       "      <td>/google+redesign/electronics</td>\n",
       "    </tr>\n",
       "    <tr>\n",
       "      <th>...</th>\n",
       "      <td>...</td>\n",
       "    </tr>\n",
       "    <tr>\n",
       "      <th>244</th>\n",
       "      <td>/google+redesign/apparel/womens/womens+tshirts...</td>\n",
       "    </tr>\n",
       "    <tr>\n",
       "      <th>245</th>\n",
       "      <td>/google+redesign/apparel/women+s+google+perfor...</td>\n",
       "    </tr>\n",
       "    <tr>\n",
       "      <th>246</th>\n",
       "      <td>/google+redesign/apparel/women+s+google+short+...</td>\n",
       "    </tr>\n",
       "    <tr>\n",
       "      <th>247</th>\n",
       "      <td>/google+redesign/apparel/womens/womens+tshirts...</td>\n",
       "    </tr>\n",
       "    <tr>\n",
       "      <th>248</th>\n",
       "      <td>/google+redesign/office/stickers/youtube+custo...</td>\n",
       "    </tr>\n",
       "  </tbody>\n",
       "</table>\n",
       "<p>249 rows × 1 columns</p>\n",
       "</div>"
      ],
      "text/plain": [
       "                                              pagePath\n",
       "0                                                /home\n",
       "1                      /google+redesign/apparel/men++s\n",
       "2                                /google+redesign/bags\n",
       "3                           /google+redesign/drinkware\n",
       "4                         /google+redesign/electronics\n",
       "..                                                 ...\n",
       "244  /google+redesign/apparel/womens/womens+tshirts...\n",
       "245  /google+redesign/apparel/women+s+google+perfor...\n",
       "246  /google+redesign/apparel/women+s+google+short+...\n",
       "247  /google+redesign/apparel/womens/womens+tshirts...\n",
       "248  /google+redesign/office/stickers/youtube+custo...\n",
       "\n",
       "[249 rows x 1 columns]"
      ]
     },
     "execution_count": 7,
     "metadata": {},
     "output_type": "execute_result"
    }
   ],
   "source": [
    "#Unique pages visited in all sessions combined\n",
    "query2 = \"\"\"SELECT hits.page.pagePath\n",
    "            FROM `bigquery-public-data.google_analytics_sample.ga_sessions_20160802` AS GA, UNNEST(GA.hits) AS hits\n",
    "            GROUP BY hits.page.pagePath\"\"\"\n",
    "\n",
    "response2 = google_analytics.query_to_pandas_safe(query2)\n",
    "\n",
    "response2"
   ]
  }
 ],
 "metadata": {
  "kaggle": {
   "accelerator": "none",
   "dataSources": [],
   "dockerImageVersionId": 30626,
   "isGpuEnabled": false,
   "isInternetEnabled": false,
   "language": "python",
   "sourceType": "notebook"
  },
  "kernelspec": {
   "display_name": "Python 3",
   "language": "python",
   "name": "python3"
  },
  "language_info": {
   "codemirror_mode": {
    "name": "ipython",
    "version": 3
   },
   "file_extension": ".py",
   "mimetype": "text/x-python",
   "name": "python",
   "nbconvert_exporter": "python",
   "pygments_lexer": "ipython3",
   "version": "3.10.12"
  },
  "papermill": {
   "default_parameters": {},
   "duration": 44.508972,
   "end_time": "2023-12-29T20:37:05.945658",
   "environment_variables": {},
   "exception": null,
   "input_path": "__notebook__.ipynb",
   "output_path": "__notebook__.ipynb",
   "parameters": {},
   "start_time": "2023-12-29T20:36:21.436686",
   "version": "2.4.0"
  }
 },
 "nbformat": 4,
 "nbformat_minor": 5
}
