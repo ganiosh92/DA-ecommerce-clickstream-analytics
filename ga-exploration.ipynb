{
 "cells": [
  {
   "cell_type": "code",
   "execution_count": 1,
   "id": "eca32b13",
   "metadata": {
    "_cell_guid": "b1076dfc-b9ad-4769-8c92-a6c4dae69d19",
    "_uuid": "8f2839f25d086af736a60e9eeb907d3b93b6e0e5",
    "execution": {
     "iopub.execute_input": "2023-12-28T04:47:41.830117Z",
     "iopub.status.busy": "2023-12-28T04:47:41.829663Z",
     "iopub.status.idle": "2023-12-28T04:47:42.282806Z",
     "shell.execute_reply": "2023-12-28T04:47:42.281559Z"
    },
    "papermill": {
     "duration": 0.462284,
     "end_time": "2023-12-28T04:47:42.285573",
     "exception": false,
     "start_time": "2023-12-28T04:47:41.823289",
     "status": "completed"
    },
    "tags": []
   },
   "outputs": [],
   "source": [
    "# This Python 3 environment comes with many helpful analytics libraries installed\n",
    "# It is defined by the kaggle/python Docker image: https://github.com/kaggle/docker-python\n",
    "# For example, here's several helpful packages to load\n",
    "\n",
    "import numpy as np # linear algebra\n",
    "import pandas as pd # data processing, CSV file I/O (e.g. pd.read_csv)\n",
    "\n",
    "# Input data files are available in the read-only \"../input/\" directory\n",
    "# For example, running this (by clicking run or pressing Shift+Enter) will list all files under the input directory\n",
    "\n",
    "import os\n",
    "for dirname, _, filenames in os.walk('/kaggle/input'):\n",
    "    for filename in filenames:\n",
    "        print(os.path.join(dirname, filename))\n",
    "\n",
    "# You can write up to 20GB to the current directory (/kaggle/working/) that gets preserved as output when you create a version using \"Save & Run All\" \n",
    "# You can also write temporary files to /kaggle/temp/, but they won't be saved outside of the current session"
   ]
  },
  {
   "cell_type": "code",
   "execution_count": 2,
   "id": "9d07584e",
   "metadata": {
    "execution": {
     "iopub.execute_input": "2023-12-28T04:47:42.295997Z",
     "iopub.status.busy": "2023-12-28T04:47:42.295168Z",
     "iopub.status.idle": "2023-12-28T04:47:46.236594Z",
     "shell.execute_reply": "2023-12-28T04:47:46.234936Z"
    },
    "papermill": {
     "duration": 3.950078,
     "end_time": "2023-12-28T04:47:46.239871",
     "exception": false,
     "start_time": "2023-12-28T04:47:42.289793",
     "status": "completed"
    },
    "tags": []
   },
   "outputs": [
    {
     "name": "stdout",
     "output_type": "stream",
     "text": [
      "Using Kaggle's public dataset BigQuery integration.\n"
     ]
    }
   ],
   "source": [
    "import bq_helper\n",
    "from bq_helper import BigQueryHelper\n",
    "# https://www.kaggle.com/sohier/introduction-to-the-bq-helper-package\n",
    "google_analytics = bq_helper.BigQueryHelper(active_project=\"bigquery-public-data\",\n",
    "                                   dataset_name=\"data:google_analytics_sample\")"
   ]
  },
  {
   "cell_type": "code",
   "execution_count": 3,
   "id": "12b0efc4",
   "metadata": {
    "execution": {
     "iopub.execute_input": "2023-12-28T04:47:46.252363Z",
     "iopub.status.busy": "2023-12-28T04:47:46.251717Z",
     "iopub.status.idle": "2023-12-28T04:47:46.258495Z",
     "shell.execute_reply": "2023-12-28T04:47:46.257210Z"
    },
    "papermill": {
     "duration": 0.015031,
     "end_time": "2023-12-28T04:47:46.261190",
     "exception": false,
     "start_time": "2023-12-28T04:47:46.246159",
     "status": "completed"
    },
    "tags": []
   },
   "outputs": [
    {
     "name": "stdout",
     "output_type": "stream",
     "text": [
      "Using Kaggle's public dataset BigQuery integration.\n"
     ]
    }
   ],
   "source": [
    "bq_assistant = BigQueryHelper(\"bigquery-public-data\", \"google_analytics_sample\")"
   ]
  },
  {
   "cell_type": "code",
   "execution_count": 4,
   "id": "01c45e05",
   "metadata": {
    "execution": {
     "iopub.execute_input": "2023-12-28T04:47:46.272517Z",
     "iopub.status.busy": "2023-12-28T04:47:46.272030Z",
     "iopub.status.idle": "2023-12-28T04:47:46.277523Z",
     "shell.execute_reply": "2023-12-28T04:47:46.276042Z"
    },
    "papermill": {
     "duration": 0.014659,
     "end_time": "2023-12-28T04:47:46.280363",
     "exception": false,
     "start_time": "2023-12-28T04:47:46.265704",
     "status": "completed"
    },
    "tags": []
   },
   "outputs": [],
   "source": [
    "#query1 = \"\"\"SELECT * FROM `bigquery-public-data.google_analytics_sample.ga_sessions_20160801`;\"\"\"\n",
    "#response1 = google_analytics.query_to_pandas_safe(query1)"
   ]
  },
  {
   "cell_type": "code",
   "execution_count": 5,
   "id": "0d20905a",
   "metadata": {
    "execution": {
     "iopub.execute_input": "2023-12-28T04:47:46.291571Z",
     "iopub.status.busy": "2023-12-28T04:47:46.290383Z",
     "iopub.status.idle": "2023-12-28T04:47:48.865241Z",
     "shell.execute_reply": "2023-12-28T04:47:48.864273Z"
    },
    "papermill": {
     "duration": 2.583027,
     "end_time": "2023-12-28T04:47:48.867794",
     "exception": false,
     "start_time": "2023-12-28T04:47:46.284767",
     "status": "completed"
    },
    "tags": []
   },
   "outputs": [
    {
     "data": {
      "text/html": [
       "<div>\n",
       "<style scoped>\n",
       "    .dataframe tbody tr th:only-of-type {\n",
       "        vertical-align: middle;\n",
       "    }\n",
       "\n",
       "    .dataframe tbody tr th {\n",
       "        vertical-align: top;\n",
       "    }\n",
       "\n",
       "    .dataframe thead th {\n",
       "        text-align: right;\n",
       "    }\n",
       "</style>\n",
       "<table border=\"1\" class=\"dataframe\">\n",
       "  <thead>\n",
       "    <tr style=\"text-align: right;\">\n",
       "      <th></th>\n",
       "      <th>pagePath</th>\n",
       "    </tr>\n",
       "  </thead>\n",
       "  <tbody>\n",
       "    <tr>\n",
       "      <th>0</th>\n",
       "      <td>/home</td>\n",
       "    </tr>\n",
       "    <tr>\n",
       "      <th>1</th>\n",
       "      <td>/google+redesign/apparel/men++s</td>\n",
       "    </tr>\n",
       "    <tr>\n",
       "      <th>2</th>\n",
       "      <td>/google+redesign/bags</td>\n",
       "    </tr>\n",
       "    <tr>\n",
       "      <th>3</th>\n",
       "      <td>/google+redesign/drinkware</td>\n",
       "    </tr>\n",
       "    <tr>\n",
       "      <th>4</th>\n",
       "      <td>/google+redesign/electronics</td>\n",
       "    </tr>\n",
       "    <tr>\n",
       "      <th>...</th>\n",
       "      <td>...</td>\n",
       "    </tr>\n",
       "    <tr>\n",
       "      <th>244</th>\n",
       "      <td>/google+redesign/apparel/womens/womens+tshirts...</td>\n",
       "    </tr>\n",
       "    <tr>\n",
       "      <th>245</th>\n",
       "      <td>/google+redesign/apparel/women+s+google+perfor...</td>\n",
       "    </tr>\n",
       "    <tr>\n",
       "      <th>246</th>\n",
       "      <td>/google+redesign/apparel/women+s+google+short+...</td>\n",
       "    </tr>\n",
       "    <tr>\n",
       "      <th>247</th>\n",
       "      <td>/google+redesign/apparel/womens/womens+tshirts...</td>\n",
       "    </tr>\n",
       "    <tr>\n",
       "      <th>248</th>\n",
       "      <td>/google+redesign/office/stickers/youtube+custo...</td>\n",
       "    </tr>\n",
       "  </tbody>\n",
       "</table>\n",
       "<p>249 rows × 1 columns</p>\n",
       "</div>"
      ],
      "text/plain": [
       "                                              pagePath\n",
       "0                                                /home\n",
       "1                      /google+redesign/apparel/men++s\n",
       "2                                /google+redesign/bags\n",
       "3                           /google+redesign/drinkware\n",
       "4                         /google+redesign/electronics\n",
       "..                                                 ...\n",
       "244  /google+redesign/apparel/womens/womens+tshirts...\n",
       "245  /google+redesign/apparel/women+s+google+perfor...\n",
       "246  /google+redesign/apparel/women+s+google+short+...\n",
       "247  /google+redesign/apparel/womens/womens+tshirts...\n",
       "248  /google+redesign/office/stickers/youtube+custo...\n",
       "\n",
       "[249 rows x 1 columns]"
      ]
     },
     "execution_count": 5,
     "metadata": {},
     "output_type": "execute_result"
    }
   ],
   "source": [
    "#Unique pages visited in all sessions combined\n",
    "query2 = \"\"\"SELECT hits.page.pagePath\n",
    "            FROM `bigquery-public-data.google_analytics_sample.ga_sessions_20160802` AS GA, UNNEST(GA.hits) AS hits\n",
    "            GROUP BY hits.page.pagePath\"\"\"\n",
    "\n",
    "response2 = google_analytics.query_to_pandas_safe(query2)\n",
    "\n",
    "response2"
   ]
  },
  {
   "cell_type": "code",
   "execution_count": 6,
   "id": "4a73d247",
   "metadata": {
    "execution": {
     "iopub.execute_input": "2023-12-28T04:47:48.878745Z",
     "iopub.status.busy": "2023-12-28T04:47:48.878297Z",
     "iopub.status.idle": "2023-12-28T04:47:50.463265Z",
     "shell.execute_reply": "2023-12-28T04:47:50.462259Z"
    },
    "papermill": {
     "duration": 1.593477,
     "end_time": "2023-12-28T04:47:50.465887",
     "exception": false,
     "start_time": "2023-12-28T04:47:48.872410",
     "status": "completed"
    },
    "tags": []
   },
   "outputs": [
    {
     "data": {
      "text/html": [
       "<div>\n",
       "<style scoped>\n",
       "    .dataframe tbody tr th:only-of-type {\n",
       "        vertical-align: middle;\n",
       "    }\n",
       "\n",
       "    .dataframe tbody tr th {\n",
       "        vertical-align: top;\n",
       "    }\n",
       "\n",
       "    .dataframe thead th {\n",
       "        text-align: right;\n",
       "    }\n",
       "</style>\n",
       "<table border=\"1\" class=\"dataframe\">\n",
       "  <thead>\n",
       "    <tr style=\"text-align: right;\">\n",
       "      <th></th>\n",
       "      <th>pagePath</th>\n",
       "      <th>page_views</th>\n",
       "    </tr>\n",
       "  </thead>\n",
       "  <tbody>\n",
       "    <tr>\n",
       "      <th>0</th>\n",
       "      <td>/home</td>\n",
       "      <td>2664</td>\n",
       "    </tr>\n",
       "    <tr>\n",
       "      <th>1</th>\n",
       "      <td>/basket.html</td>\n",
       "      <td>830</td>\n",
       "    </tr>\n",
       "    <tr>\n",
       "      <th>2</th>\n",
       "      <td>/google+redesign/office</td>\n",
       "      <td>481</td>\n",
       "    </tr>\n",
       "    <tr>\n",
       "      <th>3</th>\n",
       "      <td>/google+redesign/bags</td>\n",
       "      <td>446</td>\n",
       "    </tr>\n",
       "    <tr>\n",
       "      <th>4</th>\n",
       "      <td>/google+redesign/electronics</td>\n",
       "      <td>436</td>\n",
       "    </tr>\n",
       "    <tr>\n",
       "      <th>...</th>\n",
       "      <td>...</td>\n",
       "      <td>...</td>\n",
       "    </tr>\n",
       "    <tr>\n",
       "      <th>244</th>\n",
       "      <td>/google+redesign/apparel/womens/womens+tshirts...</td>\n",
       "      <td>1</td>\n",
       "    </tr>\n",
       "    <tr>\n",
       "      <th>245</th>\n",
       "      <td>/google+redesign/apparel/women+s+google+perfor...</td>\n",
       "      <td>1</td>\n",
       "    </tr>\n",
       "    <tr>\n",
       "      <th>246</th>\n",
       "      <td>/google+redesign/apparel/women+s+google+short+...</td>\n",
       "      <td>1</td>\n",
       "    </tr>\n",
       "    <tr>\n",
       "      <th>247</th>\n",
       "      <td>/google+redesign/apparel/womens/womens+tshirts...</td>\n",
       "      <td>1</td>\n",
       "    </tr>\n",
       "    <tr>\n",
       "      <th>248</th>\n",
       "      <td>/google+redesign/office/stickers/youtube+custo...</td>\n",
       "      <td>1</td>\n",
       "    </tr>\n",
       "  </tbody>\n",
       "</table>\n",
       "<p>249 rows × 2 columns</p>\n",
       "</div>"
      ],
      "text/plain": [
       "                                              pagePath  page_views\n",
       "0                                                /home        2664\n",
       "1                                         /basket.html         830\n",
       "2                              /google+redesign/office         481\n",
       "3                                /google+redesign/bags         446\n",
       "4                         /google+redesign/electronics         436\n",
       "..                                                 ...         ...\n",
       "244  /google+redesign/apparel/womens/womens+tshirts...           1\n",
       "245  /google+redesign/apparel/women+s+google+perfor...           1\n",
       "246  /google+redesign/apparel/women+s+google+short+...           1\n",
       "247  /google+redesign/apparel/womens/womens+tshirts...           1\n",
       "248  /google+redesign/office/stickers/youtube+custo...           1\n",
       "\n",
       "[249 rows x 2 columns]"
      ]
     },
     "execution_count": 6,
     "metadata": {},
     "output_type": "execute_result"
    }
   ],
   "source": [
    "#number of pageviews\n",
    "query3 = \"\"\"SELECT hits.page.pagePath, count(*) as page_views\n",
    "            FROM `bigquery-public-data.google_analytics_sample.ga_sessions_20160802` AS GA, UNNEST(GA.hits) AS hits\n",
    "            WHERE hits.type = 'PAGE'\n",
    "            GROUP BY hits.page.pagePath\n",
    "            ORDER BY page_views desc\n",
    "            \"\"\"\n",
    "response3 = google_analytics.query_to_pandas(query3)\n",
    "response3"
   ]
  },
  {
   "cell_type": "code",
   "execution_count": 7,
   "id": "c175ff56",
   "metadata": {
    "execution": {
     "iopub.execute_input": "2023-12-28T04:47:50.478781Z",
     "iopub.status.busy": "2023-12-28T04:47:50.477982Z",
     "iopub.status.idle": "2023-12-28T04:47:52.364825Z",
     "shell.execute_reply": "2023-12-28T04:47:52.363595Z"
    },
    "papermill": {
     "duration": 1.896797,
     "end_time": "2023-12-28T04:47:52.367810",
     "exception": false,
     "start_time": "2023-12-28T04:47:50.471013",
     "status": "completed"
    },
    "tags": []
   },
   "outputs": [
    {
     "data": {
      "text/html": [
       "<div>\n",
       "<style scoped>\n",
       "    .dataframe tbody tr th:only-of-type {\n",
       "        vertical-align: middle;\n",
       "    }\n",
       "\n",
       "    .dataframe tbody tr th {\n",
       "        vertical-align: top;\n",
       "    }\n",
       "\n",
       "    .dataframe thead th {\n",
       "        text-align: right;\n",
       "    }\n",
       "</style>\n",
       "<table border=\"1\" class=\"dataframe\">\n",
       "  <thead>\n",
       "    <tr style=\"text-align: right;\">\n",
       "      <th></th>\n",
       "      <th>pagePath</th>\n",
       "      <th>page_views</th>\n",
       "      <th>unique_page_views</th>\n",
       "    </tr>\n",
       "  </thead>\n",
       "  <tbody>\n",
       "    <tr>\n",
       "      <th>0</th>\n",
       "      <td>/home</td>\n",
       "      <td>2664</td>\n",
       "      <td>1798</td>\n",
       "    </tr>\n",
       "    <tr>\n",
       "      <th>1</th>\n",
       "      <td>/basket.html</td>\n",
       "      <td>830</td>\n",
       "      <td>198</td>\n",
       "    </tr>\n",
       "    <tr>\n",
       "      <th>2</th>\n",
       "      <td>/google+redesign/office</td>\n",
       "      <td>481</td>\n",
       "      <td>342</td>\n",
       "    </tr>\n",
       "    <tr>\n",
       "      <th>3</th>\n",
       "      <td>/google+redesign/bags</td>\n",
       "      <td>446</td>\n",
       "      <td>320</td>\n",
       "    </tr>\n",
       "    <tr>\n",
       "      <th>4</th>\n",
       "      <td>/google+redesign/electronics</td>\n",
       "      <td>436</td>\n",
       "      <td>329</td>\n",
       "    </tr>\n",
       "    <tr>\n",
       "      <th>...</th>\n",
       "      <td>...</td>\n",
       "      <td>...</td>\n",
       "      <td>...</td>\n",
       "    </tr>\n",
       "    <tr>\n",
       "      <th>244</th>\n",
       "      <td>/google+redesign/apparel/womens/womens+tshirts...</td>\n",
       "      <td>1</td>\n",
       "      <td>1</td>\n",
       "    </tr>\n",
       "    <tr>\n",
       "      <th>245</th>\n",
       "      <td>/google+redesign/apparel/women+s+google+perfor...</td>\n",
       "      <td>1</td>\n",
       "      <td>1</td>\n",
       "    </tr>\n",
       "    <tr>\n",
       "      <th>246</th>\n",
       "      <td>/google+redesign/apparel/women+s+google+short+...</td>\n",
       "      <td>1</td>\n",
       "      <td>1</td>\n",
       "    </tr>\n",
       "    <tr>\n",
       "      <th>247</th>\n",
       "      <td>/google+redesign/apparel/womens/womens+tshirts...</td>\n",
       "      <td>1</td>\n",
       "      <td>1</td>\n",
       "    </tr>\n",
       "    <tr>\n",
       "      <th>248</th>\n",
       "      <td>/google+redesign/office/stickers/youtube+custo...</td>\n",
       "      <td>1</td>\n",
       "      <td>1</td>\n",
       "    </tr>\n",
       "  </tbody>\n",
       "</table>\n",
       "<p>249 rows × 3 columns</p>\n",
       "</div>"
      ],
      "text/plain": [
       "                                              pagePath  page_views  \\\n",
       "0                                                /home        2664   \n",
       "1                                         /basket.html         830   \n",
       "2                              /google+redesign/office         481   \n",
       "3                                /google+redesign/bags         446   \n",
       "4                         /google+redesign/electronics         436   \n",
       "..                                                 ...         ...   \n",
       "244  /google+redesign/apparel/womens/womens+tshirts...           1   \n",
       "245  /google+redesign/apparel/women+s+google+perfor...           1   \n",
       "246  /google+redesign/apparel/women+s+google+short+...           1   \n",
       "247  /google+redesign/apparel/womens/womens+tshirts...           1   \n",
       "248  /google+redesign/office/stickers/youtube+custo...           1   \n",
       "\n",
       "     unique_page_views  \n",
       "0                 1798  \n",
       "1                  198  \n",
       "2                  342  \n",
       "3                  320  \n",
       "4                  329  \n",
       "..                 ...  \n",
       "244                  1  \n",
       "245                  1  \n",
       "246                  1  \n",
       "247                  1  \n",
       "248                  1  \n",
       "\n",
       "[249 rows x 3 columns]"
      ]
     },
     "execution_count": 7,
     "metadata": {},
     "output_type": "execute_result"
    }
   ],
   "source": [
    "#Unique number of unique pageviews --> counts the pageviews by an user only once\n",
    "query4 = \"\"\"SELECT pagePath, COUNT(*) as page_views, COUNT(DISTINCT session_id) as unique_page_views\n",
    "            FROM\n",
    "            (SELECT hits.page.pagePath, CONCAT(fullVisitorId, CAST(visitStartTime as STRING)) as session_id\n",
    "            FROM `bigquery-public-data.google_analytics_sample.ga_sessions_20160802` AS GA, UNNEST(GA.hits) AS hits\n",
    "            WHERE hits.type = 'PAGE')\n",
    "            GROUP BY pagePath\n",
    "            ORDER BY page_views desc\n",
    "            \"\"\"\n",
    "response4 = google_analytics.query_to_pandas(query4)\n",
    "response4"
   ]
  },
  {
   "cell_type": "code",
   "execution_count": 8,
   "id": "b77aa8b3",
   "metadata": {
    "execution": {
     "iopub.execute_input": "2023-12-28T04:47:52.381243Z",
     "iopub.status.busy": "2023-12-28T04:47:52.380577Z",
     "iopub.status.idle": "2023-12-28T04:47:53.910419Z",
     "shell.execute_reply": "2023-12-28T04:47:53.908764Z"
    },
    "papermill": {
     "duration": 1.540143,
     "end_time": "2023-12-28T04:47:53.913467",
     "exception": false,
     "start_time": "2023-12-28T04:47:52.373324",
     "status": "completed"
    },
    "tags": []
   },
   "outputs": [
    {
     "data": {
      "text/html": [
       "<div>\n",
       "<style scoped>\n",
       "    .dataframe tbody tr th:only-of-type {\n",
       "        vertical-align: middle;\n",
       "    }\n",
       "\n",
       "    .dataframe tbody tr th {\n",
       "        vertical-align: top;\n",
       "    }\n",
       "\n",
       "    .dataframe thead th {\n",
       "        text-align: right;\n",
       "    }\n",
       "</style>\n",
       "<table border=\"1\" class=\"dataframe\">\n",
       "  <thead>\n",
       "    <tr style=\"text-align: right;\">\n",
       "      <th></th>\n",
       "      <th>pagePath</th>\n",
       "      <th>exits</th>\n",
       "    </tr>\n",
       "  </thead>\n",
       "  <tbody>\n",
       "    <tr>\n",
       "      <th>0</th>\n",
       "      <td>/home</td>\n",
       "      <td>1022</td>\n",
       "    </tr>\n",
       "    <tr>\n",
       "      <th>1</th>\n",
       "      <td>/google+redesign/office</td>\n",
       "      <td>72</td>\n",
       "    </tr>\n",
       "    <tr>\n",
       "      <th>2</th>\n",
       "      <td>/google+redesign/apparel/men++s/men++s+t+shirts</td>\n",
       "      <td>71</td>\n",
       "    </tr>\n",
       "    <tr>\n",
       "      <th>3</th>\n",
       "      <td>/google+redesign/bags</td>\n",
       "      <td>67</td>\n",
       "    </tr>\n",
       "    <tr>\n",
       "      <th>4</th>\n",
       "      <td>/google+redesign/drinkware</td>\n",
       "      <td>57</td>\n",
       "    </tr>\n",
       "    <tr>\n",
       "      <th>...</th>\n",
       "      <td>...</td>\n",
       "      <td>...</td>\n",
       "    </tr>\n",
       "    <tr>\n",
       "      <th>244</th>\n",
       "      <td>/google+redesign/apparel/men+s+t+shirts/short+...</td>\n",
       "      <td>0</td>\n",
       "    </tr>\n",
       "    <tr>\n",
       "      <th>245</th>\n",
       "      <td>/google+redesign/apparel/womens/womens+tshirts...</td>\n",
       "      <td>0</td>\n",
       "    </tr>\n",
       "    <tr>\n",
       "      <th>246</th>\n",
       "      <td>/google+redesign/apparel/women+s+google+perfor...</td>\n",
       "      <td>0</td>\n",
       "    </tr>\n",
       "    <tr>\n",
       "      <th>247</th>\n",
       "      <td>/google+redesign/apparel/womens/womens+tshirts...</td>\n",
       "      <td>0</td>\n",
       "    </tr>\n",
       "    <tr>\n",
       "      <th>248</th>\n",
       "      <td>/google+redesign/office/stickers/youtube+custo...</td>\n",
       "      <td>0</td>\n",
       "    </tr>\n",
       "  </tbody>\n",
       "</table>\n",
       "<p>249 rows × 2 columns</p>\n",
       "</div>"
      ],
      "text/plain": [
       "                                              pagePath  exits\n",
       "0                                                /home   1022\n",
       "1                              /google+redesign/office     72\n",
       "2      /google+redesign/apparel/men++s/men++s+t+shirts     71\n",
       "3                                /google+redesign/bags     67\n",
       "4                           /google+redesign/drinkware     57\n",
       "..                                                 ...    ...\n",
       "244  /google+redesign/apparel/men+s+t+shirts/short+...      0\n",
       "245  /google+redesign/apparel/womens/womens+tshirts...      0\n",
       "246  /google+redesign/apparel/women+s+google+perfor...      0\n",
       "247  /google+redesign/apparel/womens/womens+tshirts...      0\n",
       "248  /google+redesign/office/stickers/youtube+custo...      0\n",
       "\n",
       "[249 rows x 2 columns]"
      ]
     },
     "execution_count": 8,
     "metadata": {},
     "output_type": "execute_result"
    }
   ],
   "source": [
    "#Exits\n",
    "query5 = \"\"\"SELECT pagePath, sum(exits) AS exits\n",
    "            FROM\n",
    "                (SELECT hits.page.pagePath, \n",
    "                CASE \n",
    "                    WHEN hits.isExit IS NOT NULL THEN 1\n",
    "                    ELSE 0\n",
    "                END AS exits\n",
    "                FROM `bigquery-public-data.google_analytics_sample.ga_sessions_20160802` AS GA, UNNEST(GA.hits) AS hits\n",
    "                WHERE hits.type = 'PAGE')\n",
    "            GROUP BY pagePath\n",
    "            ORDER BY exits DESC\n",
    "            \"\"\"\n",
    "response5 = google_analytics.query_to_pandas(query5)\n",
    "response5"
   ]
  },
  {
   "cell_type": "code",
   "execution_count": 9,
   "id": "9e057e8e",
   "metadata": {
    "execution": {
     "iopub.execute_input": "2023-12-28T04:47:53.928176Z",
     "iopub.status.busy": "2023-12-28T04:47:53.927761Z",
     "iopub.status.idle": "2023-12-28T04:47:53.932879Z",
     "shell.execute_reply": "2023-12-28T04:47:53.931619Z"
    },
    "papermill": {
     "duration": 0.015708,
     "end_time": "2023-12-28T04:47:53.935416",
     "exception": false,
     "start_time": "2023-12-28T04:47:53.919708",
     "status": "completed"
    },
    "tags": []
   },
   "outputs": [],
   "source": [
    "#Total Time on Page\n"
   ]
  }
 ],
 "metadata": {
  "kaggle": {
   "accelerator": "none",
   "dataSources": [],
   "dockerImageVersionId": 30626,
   "isGpuEnabled": false,
   "isInternetEnabled": false,
   "language": "python",
   "sourceType": "notebook"
  },
  "kernelspec": {
   "display_name": "Python 3",
   "language": "python",
   "name": "python3"
  },
  "language_info": {
   "codemirror_mode": {
    "name": "ipython",
    "version": 3
   },
   "file_extension": ".py",
   "mimetype": "text/x-python",
   "name": "python",
   "nbconvert_exporter": "python",
   "pygments_lexer": "ipython3",
   "version": "3.10.12"
  },
  "papermill": {
   "default_parameters": {},
   "duration": 16.642879,
   "end_time": "2023-12-28T04:47:54.764195",
   "environment_variables": {},
   "exception": null,
   "input_path": "__notebook__.ipynb",
   "output_path": "__notebook__.ipynb",
   "parameters": {},
   "start_time": "2023-12-28T04:47:38.121316",
   "version": "2.4.0"
  }
 },
 "nbformat": 4,
 "nbformat_minor": 5
}
