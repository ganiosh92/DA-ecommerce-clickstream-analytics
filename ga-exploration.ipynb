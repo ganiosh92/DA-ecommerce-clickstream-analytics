{
 "cells": [
  {
   "cell_type": "code",
   "execution_count": 1,
   "id": "97510d40",
   "metadata": {
    "_cell_guid": "b1076dfc-b9ad-4769-8c92-a6c4dae69d19",
    "_uuid": "8f2839f25d086af736a60e9eeb907d3b93b6e0e5",
    "execution": {
     "iopub.execute_input": "2023-12-29T22:07:25.020066Z",
     "iopub.status.busy": "2023-12-29T22:07:25.019298Z",
     "iopub.status.idle": "2023-12-29T22:07:25.388046Z",
     "shell.execute_reply": "2023-12-29T22:07:25.386970Z"
    },
    "papermill": {
     "duration": 0.377568,
     "end_time": "2023-12-29T22:07:25.390925",
     "exception": false,
     "start_time": "2023-12-29T22:07:25.013357",
     "status": "completed"
    },
    "tags": []
   },
   "outputs": [],
   "source": [
    "# This Python 3 environment comes with many helpful analytics libraries installed\n",
    "# It is defined by the kaggle/python Docker image: https://github.com/kaggle/docker-python\n",
    "# For example, here's several helpful packages to load\n",
    "\n",
    "import numpy as np # linear algebra\n",
    "import pandas as pd # data processing, CSV file I/O (e.g. pd.read_csv)\n",
    "\n",
    "# Input data files are available in the read-only \"../input/\" directory\n",
    "# For example, running this (by clicking run or pressing Shift+Enter) will list all files under the input directory\n",
    "\n",
    "import os\n",
    "for dirname, _, filenames in os.walk('/kaggle/input'):\n",
    "    for filename in filenames:\n",
    "        print(os.path.join(dirname, filename))\n",
    "\n",
    "# You can write up to 20GB to the current directory (/kaggle/working/) that gets preserved as output when you create a version using \"Save & Run All\" \n",
    "# You can also write temporary files to /kaggle/temp/, but they won't be saved outside of the current session"
   ]
  },
  {
   "cell_type": "code",
   "execution_count": 2,
   "id": "713f0b9e",
   "metadata": {
    "execution": {
     "iopub.execute_input": "2023-12-29T22:07:25.400325Z",
     "iopub.status.busy": "2023-12-29T22:07:25.399865Z",
     "iopub.status.idle": "2023-12-29T22:07:27.953328Z",
     "shell.execute_reply": "2023-12-29T22:07:27.952049Z"
    },
    "papermill": {
     "duration": 2.560587,
     "end_time": "2023-12-29T22:07:27.955580",
     "exception": false,
     "start_time": "2023-12-29T22:07:25.394993",
     "status": "completed"
    },
    "tags": []
   },
   "outputs": [
    {
     "name": "stdout",
     "output_type": "stream",
     "text": [
      "Using Kaggle's public dataset BigQuery integration.\n"
     ]
    }
   ],
   "source": [
    "import bq_helper\n",
    "from bq_helper import BigQueryHelper\n",
    "# https://www.kaggle.com/sohier/introduction-to-the-bq-helper-package\n",
    "google_analytics = bq_helper.BigQueryHelper(active_project=\"bigquery-public-data\",\n",
    "                                   dataset_name=\"data:google_analytics_sample\")"
   ]
  },
  {
   "cell_type": "code",
   "execution_count": 3,
   "id": "f96ec4cf",
   "metadata": {
    "execution": {
     "iopub.execute_input": "2023-12-29T22:07:27.965138Z",
     "iopub.status.busy": "2023-12-29T22:07:27.964591Z",
     "iopub.status.idle": "2023-12-29T22:07:27.969711Z",
     "shell.execute_reply": "2023-12-29T22:07:27.968623Z"
    },
    "papermill": {
     "duration": 0.013671,
     "end_time": "2023-12-29T22:07:27.973097",
     "exception": false,
     "start_time": "2023-12-29T22:07:27.959426",
     "status": "completed"
    },
    "tags": []
   },
   "outputs": [
    {
     "name": "stdout",
     "output_type": "stream",
     "text": [
      "Using Kaggle's public dataset BigQuery integration.\n"
     ]
    }
   ],
   "source": [
    "bq_assistant = BigQueryHelper(\"bigquery-public-data\", \"google_analytics_sample\")"
   ]
  },
  {
   "cell_type": "markdown",
   "id": "3ac7b84d",
   "metadata": {
    "papermill": {
     "duration": 0.003524,
     "end_time": "2023-12-29T22:07:27.980554",
     "exception": false,
     "start_time": "2023-12-29T22:07:27.977030",
     "status": "completed"
    },
    "tags": []
   },
   "source": [
    "# **Main Query**"
   ]
  },
  {
   "cell_type": "code",
   "execution_count": 4,
   "id": "371f633e",
   "metadata": {
    "execution": {
     "iopub.execute_input": "2023-12-29T22:07:27.989803Z",
     "iopub.status.busy": "2023-12-29T22:07:27.989426Z",
     "iopub.status.idle": "2023-12-29T22:07:54.510237Z",
     "shell.execute_reply": "2023-12-29T22:07:54.509148Z"
    },
    "papermill": {
     "duration": 26.528091,
     "end_time": "2023-12-29T22:07:54.512456",
     "exception": false,
     "start_time": "2023-12-29T22:07:27.984365",
     "status": "completed"
    },
    "tags": []
   },
   "outputs": [
    {
     "data": {
      "text/html": [
       "<div>\n",
       "<style scoped>\n",
       "    .dataframe tbody tr th:only-of-type {\n",
       "        vertical-align: middle;\n",
       "    }\n",
       "\n",
       "    .dataframe tbody tr th {\n",
       "        vertical-align: top;\n",
       "    }\n",
       "\n",
       "    .dataframe thead th {\n",
       "        text-align: right;\n",
       "    }\n",
       "</style>\n",
       "<table border=\"1\" class=\"dataframe\">\n",
       "  <thead>\n",
       "    <tr style=\"text-align: right;\">\n",
       "      <th></th>\n",
       "      <th>session_id</th>\n",
       "      <th>channel_grouping</th>\n",
       "      <th>page_url</th>\n",
       "      <th>hit_type</th>\n",
       "      <th>event_action</th>\n",
       "      <th>event_value</th>\n",
       "      <th>hit_start_time</th>\n",
       "      <th>interaction_hit_flag</th>\n",
       "      <th>entrance_flag</th>\n",
       "      <th>exit_flag</th>\n",
       "      <th>product_name</th>\n",
       "      <th>transaction_id</th>\n",
       "      <th>transaction_sales_amount</th>\n",
       "      <th>transaction_currency_code</th>\n",
       "      <th>product_sku</th>\n",
       "      <th>product_name_1</th>\n",
       "      <th>product_quantity</th>\n",
       "      <th>product_price</th>\n",
       "      <th>product_revenue</th>\n",
       "    </tr>\n",
       "  </thead>\n",
       "  <tbody>\n",
       "    <tr>\n",
       "      <th>0</th>\n",
       "      <td>000722514342430295</td>\n",
       "      <td>NaN</td>\n",
       "      <td>/google+redesign/apparel</td>\n",
       "      <td>PAGE</td>\n",
       "      <td>None</td>\n",
       "      <td>NaN</td>\n",
       "      <td>18101</td>\n",
       "      <td>True</td>\n",
       "      <td>None</td>\n",
       "      <td>None</td>\n",
       "      <td>None</td>\n",
       "      <td>None</td>\n",
       "      <td>NaN</td>\n",
       "      <td>USD</td>\n",
       "      <td>GGOEGHPA002910</td>\n",
       "      <td>Google Trucker Hat</td>\n",
       "      <td>NaN</td>\n",
       "      <td>28.99</td>\n",
       "      <td>NaN</td>\n",
       "    </tr>\n",
       "    <tr>\n",
       "      <th>1</th>\n",
       "      <td>000722514342430295</td>\n",
       "      <td>NaN</td>\n",
       "      <td>/google+redesign/apparel</td>\n",
       "      <td>PAGE</td>\n",
       "      <td>None</td>\n",
       "      <td>NaN</td>\n",
       "      <td>18101</td>\n",
       "      <td>True</td>\n",
       "      <td>None</td>\n",
       "      <td>None</td>\n",
       "      <td>None</td>\n",
       "      <td>None</td>\n",
       "      <td>NaN</td>\n",
       "      <td>USD</td>\n",
       "      <td>GGOEYHPA003510</td>\n",
       "      <td>YouTube Trucker Hat</td>\n",
       "      <td>NaN</td>\n",
       "      <td>30.99</td>\n",
       "      <td>NaN</td>\n",
       "    </tr>\n",
       "    <tr>\n",
       "      <th>2</th>\n",
       "      <td>000722514342430295</td>\n",
       "      <td>NaN</td>\n",
       "      <td>/google+redesign/apparel</td>\n",
       "      <td>PAGE</td>\n",
       "      <td>None</td>\n",
       "      <td>NaN</td>\n",
       "      <td>18101</td>\n",
       "      <td>True</td>\n",
       "      <td>None</td>\n",
       "      <td>None</td>\n",
       "      <td>None</td>\n",
       "      <td>None</td>\n",
       "      <td>NaN</td>\n",
       "      <td>USD</td>\n",
       "      <td>GGOEGAAX0104</td>\n",
       "      <td>Google Men's 100% Cotton Short Sleeve Hero Tee...</td>\n",
       "      <td>NaN</td>\n",
       "      <td>16.99</td>\n",
       "      <td>NaN</td>\n",
       "    </tr>\n",
       "    <tr>\n",
       "      <th>3</th>\n",
       "      <td>000722514342430295</td>\n",
       "      <td>NaN</td>\n",
       "      <td>/google+redesign/apparel</td>\n",
       "      <td>PAGE</td>\n",
       "      <td>None</td>\n",
       "      <td>NaN</td>\n",
       "      <td>18101</td>\n",
       "      <td>True</td>\n",
       "      <td>None</td>\n",
       "      <td>None</td>\n",
       "      <td>None</td>\n",
       "      <td>None</td>\n",
       "      <td>NaN</td>\n",
       "      <td>USD</td>\n",
       "      <td>GGOEGAAX0105</td>\n",
       "      <td>Google Men's 100% Cotton Short Sleeve Hero Tee...</td>\n",
       "      <td>NaN</td>\n",
       "      <td>16.99</td>\n",
       "      <td>NaN</td>\n",
       "    </tr>\n",
       "    <tr>\n",
       "      <th>4</th>\n",
       "      <td>000722514342430295</td>\n",
       "      <td>NaN</td>\n",
       "      <td>/google+redesign/apparel</td>\n",
       "      <td>PAGE</td>\n",
       "      <td>None</td>\n",
       "      <td>NaN</td>\n",
       "      <td>18101</td>\n",
       "      <td>True</td>\n",
       "      <td>None</td>\n",
       "      <td>None</td>\n",
       "      <td>None</td>\n",
       "      <td>None</td>\n",
       "      <td>NaN</td>\n",
       "      <td>USD</td>\n",
       "      <td>GGOEGAAX0107</td>\n",
       "      <td>Google Men's 100% Cotton Short Sleeve Hero Tee...</td>\n",
       "      <td>NaN</td>\n",
       "      <td>16.99</td>\n",
       "      <td>NaN</td>\n",
       "    </tr>\n",
       "  </tbody>\n",
       "</table>\n",
       "</div>"
      ],
      "text/plain": [
       "           session_id  channel_grouping                  page_url hit_type  \\\n",
       "0  000722514342430295               NaN  /google+redesign/apparel     PAGE   \n",
       "1  000722514342430295               NaN  /google+redesign/apparel     PAGE   \n",
       "2  000722514342430295               NaN  /google+redesign/apparel     PAGE   \n",
       "3  000722514342430295               NaN  /google+redesign/apparel     PAGE   \n",
       "4  000722514342430295               NaN  /google+redesign/apparel     PAGE   \n",
       "\n",
       "  event_action  event_value  hit_start_time  interaction_hit_flag  \\\n",
       "0         None          NaN           18101                  True   \n",
       "1         None          NaN           18101                  True   \n",
       "2         None          NaN           18101                  True   \n",
       "3         None          NaN           18101                  True   \n",
       "4         None          NaN           18101                  True   \n",
       "\n",
       "  entrance_flag exit_flag product_name transaction_id  \\\n",
       "0          None      None         None           None   \n",
       "1          None      None         None           None   \n",
       "2          None      None         None           None   \n",
       "3          None      None         None           None   \n",
       "4          None      None         None           None   \n",
       "\n",
       "   transaction_sales_amount transaction_currency_code     product_sku  \\\n",
       "0                       NaN                       USD  GGOEGHPA002910   \n",
       "1                       NaN                       USD  GGOEYHPA003510   \n",
       "2                       NaN                       USD    GGOEGAAX0104   \n",
       "3                       NaN                       USD    GGOEGAAX0105   \n",
       "4                       NaN                       USD    GGOEGAAX0107   \n",
       "\n",
       "                                      product_name_1  product_quantity  \\\n",
       "0                                 Google Trucker Hat               NaN   \n",
       "1                                YouTube Trucker Hat               NaN   \n",
       "2  Google Men's 100% Cotton Short Sleeve Hero Tee...               NaN   \n",
       "3  Google Men's 100% Cotton Short Sleeve Hero Tee...               NaN   \n",
       "4  Google Men's 100% Cotton Short Sleeve Hero Tee...               NaN   \n",
       "\n",
       "   product_price  product_revenue  \n",
       "0          28.99              NaN  \n",
       "1          30.99              NaN  \n",
       "2          16.99              NaN  \n",
       "3          16.99              NaN  \n",
       "4          16.99              NaN  "
      ]
     },
     "execution_count": 4,
     "metadata": {},
     "output_type": "execute_result"
    }
   ],
   "source": [
    "#MAIN QUERY\n",
    "main_query = \"\"\"SELECT \n",
    "                   session_id,\n",
    "                   session_bounce_count\n",
    "                   channel_grouping,\n",
    "                   page_url,\n",
    "                   hit_type,\n",
    "                   event_action,\n",
    "                   event_value,\n",
    "                   hit_start_time,\n",
    "                   interaction_hit_flag,\n",
    "                   entrance_flag,\n",
    "                   exit_flag,\n",
    "                   product_name,\n",
    "                   transaction_id,\n",
    "                   transaction_sales_amount,\n",
    "                   transaction_currency_code,\n",
    "                   product_array.productSKU as product_sku,\n",
    "                   product_array.v2ProductName as product_name,\n",
    "                   product_array.productQuantity as product_quantity,\n",
    "                   ROUND(product_array.productPrice/1000000,2) as product_price,\n",
    "                   ROUND(product_array.productRevenue/1000000,2) as product_revenue\n",
    "            FROM\n",
    "            (SELECT date, \n",
    "                   fullVisitorId as session_id,\n",
    "                   channelGrouping as channel_grouping,\n",
    "                   totals.bounces as session_bounce_count,\n",
    "                   hits.page.pagePath as page_url,\n",
    "                   hits.type as hit_type,\n",
    "                   hits.eventInfo.eventAction as event_action,\n",
    "                   hits.eventInfo.eventValue as event_value,\n",
    "                   hits.time as hit_start_time,\n",
    "                   hits.isInteraction as interaction_hit_flag,\n",
    "                   hits.isEntrance as entrance_flag,\n",
    "                   hits.isExit as exit_flag,\n",
    "                   hits.item.productName as product_name,\n",
    "                   hits.transaction.transactionID as transaction_id,\n",
    "                   hits.product as product_array,\n",
    "                   ROUND(hits.transaction.transactionRevenue/1000000,2) as transaction_sales_amount,\n",
    "                   hits.transaction.currencyCode as transaction_currency_code\n",
    "            FROM `bigquery-public-data.google_analytics_sample.ga_sessions_20160801` as GA,\n",
    "            UNNEST(GA.hits) as hits\n",
    "            ORDER BY session_id, hit_start_time ASC) as t CROSS JOIN UNNEST(t.product_array) as product_array;\"\"\"\n",
    "\n",
    "main_query = google_analytics.query_to_pandas_safe(main_query)\n",
    "\n",
    "main_query.head(5)"
   ]
  },
  {
   "cell_type": "markdown",
   "id": "a992c65c",
   "metadata": {
    "papermill": {
     "duration": 0.004091,
     "end_time": "2023-12-29T22:07:54.521013",
     "exception": false,
     "start_time": "2023-12-29T22:07:54.516922",
     "status": "completed"
    },
    "tags": []
   },
   "source": [
    "# Metric Calculations"
   ]
  },
  {
   "cell_type": "markdown",
   "id": "f4aef11a",
   "metadata": {
    "papermill": {
     "duration": 0.003883,
     "end_time": "2023-12-29T22:07:54.529118",
     "exception": false,
     "start_time": "2023-12-29T22:07:54.525235",
     "status": "completed"
    },
    "tags": []
   },
   "source": [
    "**Conversion Rate**"
   ]
  },
  {
   "cell_type": "code",
   "execution_count": 5,
   "id": "5e13c682",
   "metadata": {
    "execution": {
     "iopub.execute_input": "2023-12-29T22:07:54.539299Z",
     "iopub.status.busy": "2023-12-29T22:07:54.538517Z",
     "iopub.status.idle": "2023-12-29T22:07:54.562482Z",
     "shell.execute_reply": "2023-12-29T22:07:54.561182Z"
    },
    "papermill": {
     "duration": 0.031206,
     "end_time": "2023-12-29T22:07:54.564439",
     "exception": false,
     "start_time": "2023-12-29T22:07:54.533233",
     "status": "completed"
    },
    "tags": []
   },
   "outputs": [
    {
     "name": "stdout",
     "output_type": "stream",
     "text": [
      "Comversion Rate: 3.83 %\n"
     ]
    }
   ],
   "source": [
    "#Conversion Rate\n",
    "df = main_query.groupby('session_id')['product_revenue'].sum().reset_index().sort_values(by = 'product_revenue', ascending = False)\n",
    "\n",
    "total_sessions = len(df)\n",
    "sessions_w_transactions = len(df.query('product_revenue!=0'))\n",
    "conversion_pct = round((sessions_w_transactions / total_sessions) * 100,2)\n",
    "\n",
    "print(\"Comversion Rate: \" + str(conversion_pct) + \" %\")"
   ]
  },
  {
   "cell_type": "markdown",
   "id": "dfeec822",
   "metadata": {
    "papermill": {
     "duration": 0.004053,
     "end_time": "2023-12-29T22:07:54.572816",
     "exception": false,
     "start_time": "2023-12-29T22:07:54.568763",
     "status": "completed"
    },
    "tags": []
   },
   "source": [
    "**Bounce Rate**"
   ]
  },
  {
   "cell_type": "code",
   "execution_count": 6,
   "id": "076c7686",
   "metadata": {
    "execution": {
     "iopub.execute_input": "2023-12-29T22:07:54.583281Z",
     "iopub.status.busy": "2023-12-29T22:07:54.582447Z",
     "iopub.status.idle": "2023-12-29T22:07:57.695316Z",
     "shell.execute_reply": "2023-12-29T22:07:57.694415Z"
    },
    "papermill": {
     "duration": 3.120389,
     "end_time": "2023-12-29T22:07:57.697435",
     "exception": false,
     "start_time": "2023-12-29T22:07:54.577046",
     "status": "completed"
    },
    "tags": []
   },
   "outputs": [
    {
     "name": "stdout",
     "output_type": "stream",
     "text": [
      "Bounce Rate: 42.55%\n"
     ]
    }
   ],
   "source": [
    "#Bounce Rate - should be calculated at the page level\n",
    "#for simplicity let's calculate bounce rate of /home\n",
    "query = \"\"\" SELECT\n",
    "                CONCAT(fullVisitorId,visitId) as session_id,\n",
    "                sum(totals.bounces) as total_bounces_this_session\n",
    "            FROM\n",
    "                `bigquery-public-data.google_analytics_sample.ga_sessions_20160801` AS GA\n",
    "            GROUP BY session_id\n",
    "            ORDER BY total_bounces_this_session DESC\"\"\"\n",
    "\n",
    "total_sessions = google_analytics.query_to_pandas_safe(query)\n",
    "\n",
    "\n",
    "sessions_with_bounces = total_sessions[total_sessions['total_bounces_this_session']>0]\n",
    "bounce_rate = round((len(sessions_with_bounces) / len(total_sessions))*100,2)\n",
    "\n",
    "print(\"Bounce Rate: \" + str(bounce_rate) + \"%\")"
   ]
  },
  {
   "cell_type": "markdown",
   "id": "164050c9",
   "metadata": {
    "papermill": {
     "duration": 0.004184,
     "end_time": "2023-12-29T22:07:57.706315",
     "exception": false,
     "start_time": "2023-12-29T22:07:57.702131",
     "status": "completed"
    },
    "tags": []
   },
   "source": [
    "# Testing"
   ]
  },
  {
   "cell_type": "code",
   "execution_count": 7,
   "id": "df804d52",
   "metadata": {
    "execution": {
     "iopub.execute_input": "2023-12-29T22:07:57.717194Z",
     "iopub.status.busy": "2023-12-29T22:07:57.716626Z",
     "iopub.status.idle": "2023-12-29T22:07:57.723946Z",
     "shell.execute_reply": "2023-12-29T22:07:57.723143Z"
    },
    "papermill": {
     "duration": 0.015196,
     "end_time": "2023-12-29T22:07:57.725903",
     "exception": false,
     "start_time": "2023-12-29T22:07:57.710707",
     "status": "completed"
    },
    "tags": []
   },
   "outputs": [],
   "source": [
    "#Generate the list of dates from 2016-08-01 to 2017-08-01\n",
    "\n",
    "from datetime import datetime, timedelta\n",
    "\n",
    "# Start and end dates\n",
    "start_date_str = \"2016-08-01\"\n",
    "end_date_str = \"2017-08-01\"\n",
    "\n",
    "# Convert string dates to datetime objects\n",
    "start_date = datetime.strptime(start_date_str, \"%Y-%m-%d\")\n",
    "end_date = datetime.strptime(end_date_str, \"%Y-%m-%d\")\n",
    "\n",
    "# Initialize an empty list to store dates\n",
    "date_list = []\n",
    "\n",
    "# Populate the list with dates\n",
    "current_date = start_date\n",
    "while current_date <= end_date:\n",
    "    date_list.append(current_date.strftime(\"%Y%m%d\"))\n",
    "    current_date += timedelta(days=1)\n",
    "    "
   ]
  },
  {
   "cell_type": "code",
   "execution_count": 8,
   "id": "b6037726",
   "metadata": {
    "execution": {
     "iopub.execute_input": "2023-12-29T22:07:57.736594Z",
     "iopub.status.busy": "2023-12-29T22:07:57.736184Z",
     "iopub.status.idle": "2023-12-29T22:21:12.258434Z",
     "shell.execute_reply": "2023-12-29T22:21:12.257369Z"
    },
    "papermill": {
     "duration": 794.53561,
     "end_time": "2023-12-29T22:21:12.265934",
     "exception": false,
     "start_time": "2023-12-29T22:07:57.730324",
     "status": "completed"
    },
    "tags": []
   },
   "outputs": [
    {
     "data": {
      "text/html": [
       "<div>\n",
       "<style scoped>\n",
       "    .dataframe tbody tr th:only-of-type {\n",
       "        vertical-align: middle;\n",
       "    }\n",
       "\n",
       "    .dataframe tbody tr th {\n",
       "        vertical-align: top;\n",
       "    }\n",
       "\n",
       "    .dataframe thead th {\n",
       "        text-align: right;\n",
       "    }\n",
       "</style>\n",
       "<table border=\"1\" class=\"dataframe\">\n",
       "  <thead>\n",
       "    <tr style=\"text-align: right;\">\n",
       "      <th></th>\n",
       "      <th>full_date</th>\n",
       "      <th>total_sessions</th>\n",
       "      <th>sessions_with_bounces</th>\n",
       "    </tr>\n",
       "  </thead>\n",
       "  <tbody>\n",
       "    <tr>\n",
       "      <th>0</th>\n",
       "      <td>2016-08-01</td>\n",
       "      <td>1711</td>\n",
       "      <td>728</td>\n",
       "    </tr>\n",
       "    <tr>\n",
       "      <th>1</th>\n",
       "      <td>2016-08-02</td>\n",
       "      <td>2140</td>\n",
       "      <td>962</td>\n",
       "    </tr>\n",
       "    <tr>\n",
       "      <th>2</th>\n",
       "      <td>2016-08-03</td>\n",
       "      <td>2890</td>\n",
       "      <td>1390</td>\n",
       "    </tr>\n",
       "    <tr>\n",
       "      <th>3</th>\n",
       "      <td>2016-08-04</td>\n",
       "      <td>3161</td>\n",
       "      <td>1553</td>\n",
       "    </tr>\n",
       "    <tr>\n",
       "      <th>4</th>\n",
       "      <td>2016-08-05</td>\n",
       "      <td>2702</td>\n",
       "      <td>1305</td>\n",
       "    </tr>\n",
       "    <tr>\n",
       "      <th>...</th>\n",
       "      <td>...</td>\n",
       "      <td>...</td>\n",
       "      <td>...</td>\n",
       "    </tr>\n",
       "    <tr>\n",
       "      <th>361</th>\n",
       "      <td>2017-07-28</td>\n",
       "      <td>2433</td>\n",
       "      <td>1185</td>\n",
       "    </tr>\n",
       "    <tr>\n",
       "      <th>362</th>\n",
       "      <td>2017-07-29</td>\n",
       "      <td>1597</td>\n",
       "      <td>815</td>\n",
       "    </tr>\n",
       "    <tr>\n",
       "      <th>363</th>\n",
       "      <td>2017-07-30</td>\n",
       "      <td>1799</td>\n",
       "      <td>913</td>\n",
       "    </tr>\n",
       "    <tr>\n",
       "      <th>364</th>\n",
       "      <td>2017-07-31</td>\n",
       "      <td>2620</td>\n",
       "      <td>1289</td>\n",
       "    </tr>\n",
       "    <tr>\n",
       "      <th>365</th>\n",
       "      <td>2017-08-01</td>\n",
       "      <td>2556</td>\n",
       "      <td>1238</td>\n",
       "    </tr>\n",
       "  </tbody>\n",
       "</table>\n",
       "<p>366 rows × 3 columns</p>\n",
       "</div>"
      ],
      "text/plain": [
       "     full_date  total_sessions  sessions_with_bounces\n",
       "0   2016-08-01            1711                    728\n",
       "1   2016-08-02            2140                    962\n",
       "2   2016-08-03            2890                   1390\n",
       "3   2016-08-04            3161                   1553\n",
       "4   2016-08-05            2702                   1305\n",
       "..         ...             ...                    ...\n",
       "361 2017-07-28            2433                   1185\n",
       "362 2017-07-29            1597                    815\n",
       "363 2017-07-30            1799                    913\n",
       "364 2017-07-31            2620                   1289\n",
       "365 2017-08-01            2556                   1238\n",
       "\n",
       "[366 rows x 3 columns]"
      ]
     },
     "execution_count": 8,
     "metadata": {},
     "output_type": "execute_result"
    }
   ],
   "source": [
    "full_date_list = []\n",
    "total_sessions_list = []\n",
    "sessions_with_bounces_list = []\n",
    "\n",
    "for i in date_list:  \n",
    "    table_name = 'bigquery-public-data.google_analytics_sample.ga_sessions_' + str(i)\n",
    "    query = f\"\"\" SELECT\n",
    "                    CONCAT(fullVisitorId,visitId) as session_id,\n",
    "                    sum(totals.bounces) as total_bounces_this_session\n",
    "                FROM\n",
    "                    `{table_name}` AS GA\n",
    "                GROUP BY session_id\n",
    "                ORDER BY total_bounces_this_session DESC\"\"\"\n",
    "\n",
    "    total_sessions = google_analytics.query_to_pandas_safe(query)\n",
    "\n",
    "\n",
    "    sessions_with_bounces = total_sessions[total_sessions['total_bounces_this_session']>0]\n",
    "    bounce_rate = round((len(sessions_with_bounces) / len(total_sessions))*100,2)\n",
    "    \n",
    "    #add values to the list\n",
    "    full_date_list.append(datetime.strptime(i, \"%Y%m%d\"))\n",
    "    total_sessions_list.append(len(total_sessions))\n",
    "    sessions_with_bounces_list.append(len(sessions_with_bounces))\n",
    "\n",
    "df = pd.DataFrame()\n",
    "df['full_date'] = full_date_list\n",
    "df['total_sessions'] = total_sessions_list\n",
    "df['sessions_with_bounces'] = sessions_with_bounces_list\n",
    "\n",
    "df"
   ]
  },
  {
   "cell_type": "code",
   "execution_count": 9,
   "id": "b2932bbd",
   "metadata": {
    "execution": {
     "iopub.execute_input": "2023-12-29T22:21:12.277896Z",
     "iopub.status.busy": "2023-12-29T22:21:12.276662Z",
     "iopub.status.idle": "2023-12-29T22:21:12.288435Z",
     "shell.execute_reply": "2023-12-29T22:21:12.287517Z"
    },
    "papermill": {
     "duration": 0.020108,
     "end_time": "2023-12-29T22:21:12.290794",
     "exception": false,
     "start_time": "2023-12-29T22:21:12.270686",
     "status": "completed"
    },
    "tags": []
   },
   "outputs": [],
   "source": [
    "df.to_csv('sessions_and_bounces_by_day.csv')"
   ]
  }
 ],
 "metadata": {
  "kaggle": {
   "accelerator": "none",
   "dataSources": [],
   "dockerImageVersionId": 30626,
   "isGpuEnabled": false,
   "isInternetEnabled": false,
   "language": "python",
   "sourceType": "notebook"
  },
  "kernelspec": {
   "display_name": "Python 3",
   "language": "python",
   "name": "python3"
  },
  "language_info": {
   "codemirror_mode": {
    "name": "ipython",
    "version": 3
   },
   "file_extension": ".py",
   "mimetype": "text/x-python",
   "name": "python",
   "nbconvert_exporter": "python",
   "pygments_lexer": "ipython3",
   "version": "3.10.12"
  },
  "papermill": {
   "default_parameters": {},
   "duration": 830.98973,
   "end_time": "2023-12-29T22:21:13.018289",
   "environment_variables": {},
   "exception": null,
   "input_path": "__notebook__.ipynb",
   "output_path": "__notebook__.ipynb",
   "parameters": {},
   "start_time": "2023-12-29T22:07:22.028559",
   "version": "2.4.0"
  }
 },
 "nbformat": 4,
 "nbformat_minor": 5
}
