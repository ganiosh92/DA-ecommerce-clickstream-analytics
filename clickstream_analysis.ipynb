{
  "cells": [
    {
      "cell_type": "markdown",
      "metadata": {
        "id": "view-in-github",
        "colab_type": "text"
      },
      "source": [
        "<a href=\"https://colab.research.google.com/github/ganiosh92/DA-ecommerce-clickstream-analytics/blob/main/clickstream_analysis.ipynb\" target=\"_parent\"><img src=\"https://colab.research.google.com/assets/colab-badge.svg\" alt=\"Open In Colab\"/></a>"
      ]
    },
    {
      "cell_type": "markdown",
      "metadata": {
        "id": "zM1TUTdCIFoV"
      },
      "source": [
        "# Mount on ***Google Drive***"
      ]
    },
    {
      "cell_type": "code",
      "execution_count": 1,
      "metadata": {
        "colab": {
          "base_uri": "https://localhost:8080/"
        },
        "id": "4koeVTJXUJvZ",
        "outputId": "bb9b36fc-52d9-4d6b-9aca-4fa10bc62705"
      },
      "outputs": [
        {
          "output_type": "stream",
          "name": "stdout",
          "text": [
            "Mounted at /content/drive\n"
          ]
        }
      ],
      "source": [
        "from google.colab import drive\n",
        "drive.mount('/content/drive')"
      ]
    },
    {
      "cell_type": "code",
      "execution_count": 2,
      "metadata": {
        "id": "B7CLKJCTLcXL",
        "colab": {
          "base_uri": "https://localhost:8080/"
        },
        "outputId": "50372f6c-87fb-4f19-e6c9-67de93873716"
      },
      "outputs": [
        {
          "output_type": "stream",
          "name": "stdout",
          "text": [
            "/content\n",
            "/content/drive/My Drive/Sample-Data-From-Web/ecommerce_customer_behavior\n"
          ]
        }
      ],
      "source": [
        "!pwd\n",
        "%cd /content/drive/My Drive/Sample-Data-From-Web/ecommerce_customer_behavior"
      ]
    },
    {
      "cell_type": "markdown",
      "metadata": {
        "id": "QxvXKdCYINou"
      },
      "source": [
        "# Import all ***Libraries***"
      ]
    },
    {
      "cell_type": "code",
      "execution_count": 3,
      "metadata": {
        "id": "zEjCx7UhUurk"
      },
      "outputs": [],
      "source": [
        "import pandas as pd\n",
        "import numpy as np\n",
        "import json\n",
        "from pandas import json_normalize"
      ]
    },
    {
      "cell_type": "code",
      "execution_count": 4,
      "metadata": {
        "id": "8jbCzhcyU9NY"
      },
      "outputs": [],
      "source": [
        "#customer = pd.read_csv('customer.csv')\n",
        "clickstream = pd.read_csv('click_stream.csv')\n",
        "#transactions = pd.read_csv('transactions.csv')\n",
        "#product = pd.read_csv('product.csv', on_bad_lines='skip')"
      ]
    },
    {
      "cell_type": "markdown",
      "metadata": {
        "id": "cla6nnVSFQOn"
      },
      "source": [
        "# ***Traffic Source***"
      ]
    },
    {
      "cell_type": "code",
      "execution_count": null,
      "metadata": {
        "colab": {
          "base_uri": "https://localhost:8080/"
        },
        "id": "O-ZD45nfFWii",
        "outputId": "674f758e-ae51-46a2-cd36-499e584aa20d"
      },
      "outputs": [
        {
          "output_type": "stream",
          "name": "stdout",
          "text": [
            "Percentage of Mobile Traffic = 89.98%\n",
            "Percentage of Web Traffic = 10.02%\n"
          ]
        }
      ],
      "source": [
        "mobile_traffic = round((len(clickstream[clickstream['traffic_source'] == 'MOBILE']) / len(clickstream)) * 100, 2)\n",
        "web_traffic = round((len(clickstream[clickstream['traffic_source'] == 'WEB']) / len(clickstream)) * 100, 2)\n",
        "\n",
        "print(\"Percentage of Mobile Traffic = \" + str(mobile_traffic)+\"%\")\n",
        "print(\"Percentage of Web Traffic = \" + str(web_traffic)+\"%\")"
      ]
    },
    {
      "cell_type": "markdown",
      "metadata": {
        "id": "ZIUntLjelZoF"
      },
      "source": [
        "# Preprocessing ***Clickstream*** Data"
      ]
    },
    {
      "cell_type": "code",
      "execution_count": 5,
      "metadata": {
        "colab": {
          "base_uri": "https://localhost:8080/",
          "height": 293
        },
        "id": "SHcHP1HaCzQd",
        "outputId": "4d91b469-3534-4117-ba9a-32f28696e48f"
      },
      "outputs": [
        {
          "output_type": "execute_result",
          "data": {
            "text/plain": [
              "                             session_id   event_name  \\\n",
              "0  fb0abf9e-fd1a-44dd-b5c0-2834d5a4b81c     HOMEPAGE   \n",
              "1  fb0abf9e-fd1a-44dd-b5c0-2834d5a4b81c       SCROLL   \n",
              "2  7d440441-e67a-4d36-b324-80ffd636d166     HOMEPAGE   \n",
              "3  7d440441-e67a-4d36-b324-80ffd636d166  ADD_TO_CART   \n",
              "4  7d440441-e67a-4d36-b324-80ffd636d166      BOOKING   \n",
              "\n",
              "                        event_time                              event_id  \\\n",
              "0 2019-09-06 15:54:32.821085+00:00  9c4388c4-c95b-4678-b5ca-e9cbc0734109   \n",
              "1 2019-09-06 16:03:57.821085+00:00  4690e1f5-3f99-42d3-84a5-22c4c4d8500a   \n",
              "2 2019-09-01 12:05:10.322763+00:00  88aeaeb5-ec98-4859-852c-8abb483faf31   \n",
              "3 2019-09-01 12:06:33.322763+00:00  934e306e-ecc6-472f-9ccb-12c8536910a2   \n",
              "4 2019-09-01 12:15:29.425431+00:00  9f4767a1-40fa-4c9c-9524-dfad18634d56   \n",
              "\n",
              "  traffic_source                                     event_metadata  \\\n",
              "0         MOBILE                                                NaN   \n",
              "1         MOBILE                                                NaN   \n",
              "2         MOBILE                                                NaN   \n",
              "3         MOBILE  {'product_id': 15315, 'quantity': 4, 'item_pri...   \n",
              "4         MOBILE                      {'payment_status': 'Success'}   \n",
              "\n",
              "   event_day  event_month  event_year  \\\n",
              "0          6            9        2019   \n",
              "1          6            9        2019   \n",
              "2          1            9        2019   \n",
              "3          1            9        2019   \n",
              "4          1            9        2019   \n",
              "\n",
              "                                unique_session_id  \n",
              "0  fb0abf9e-fd1a-44dd-b5c0-2834d5a4b81c2019-09-06  \n",
              "1  fb0abf9e-fd1a-44dd-b5c0-2834d5a4b81c2019-09-06  \n",
              "2  7d440441-e67a-4d36-b324-80ffd636d1662019-09-01  \n",
              "3  7d440441-e67a-4d36-b324-80ffd636d1662019-09-01  \n",
              "4  7d440441-e67a-4d36-b324-80ffd636d1662019-09-01  "
            ],
            "text/html": [
              "\n",
              "  <div id=\"df-56929627-109d-4d9f-ba9b-31054e160fe0\" class=\"colab-df-container\">\n",
              "    <div>\n",
              "<style scoped>\n",
              "    .dataframe tbody tr th:only-of-type {\n",
              "        vertical-align: middle;\n",
              "    }\n",
              "\n",
              "    .dataframe tbody tr th {\n",
              "        vertical-align: top;\n",
              "    }\n",
              "\n",
              "    .dataframe thead th {\n",
              "        text-align: right;\n",
              "    }\n",
              "</style>\n",
              "<table border=\"1\" class=\"dataframe\">\n",
              "  <thead>\n",
              "    <tr style=\"text-align: right;\">\n",
              "      <th></th>\n",
              "      <th>session_id</th>\n",
              "      <th>event_name</th>\n",
              "      <th>event_time</th>\n",
              "      <th>event_id</th>\n",
              "      <th>traffic_source</th>\n",
              "      <th>event_metadata</th>\n",
              "      <th>event_day</th>\n",
              "      <th>event_month</th>\n",
              "      <th>event_year</th>\n",
              "      <th>unique_session_id</th>\n",
              "    </tr>\n",
              "  </thead>\n",
              "  <tbody>\n",
              "    <tr>\n",
              "      <th>0</th>\n",
              "      <td>fb0abf9e-fd1a-44dd-b5c0-2834d5a4b81c</td>\n",
              "      <td>HOMEPAGE</td>\n",
              "      <td>2019-09-06 15:54:32.821085+00:00</td>\n",
              "      <td>9c4388c4-c95b-4678-b5ca-e9cbc0734109</td>\n",
              "      <td>MOBILE</td>\n",
              "      <td>NaN</td>\n",
              "      <td>6</td>\n",
              "      <td>9</td>\n",
              "      <td>2019</td>\n",
              "      <td>fb0abf9e-fd1a-44dd-b5c0-2834d5a4b81c2019-09-06</td>\n",
              "    </tr>\n",
              "    <tr>\n",
              "      <th>1</th>\n",
              "      <td>fb0abf9e-fd1a-44dd-b5c0-2834d5a4b81c</td>\n",
              "      <td>SCROLL</td>\n",
              "      <td>2019-09-06 16:03:57.821085+00:00</td>\n",
              "      <td>4690e1f5-3f99-42d3-84a5-22c4c4d8500a</td>\n",
              "      <td>MOBILE</td>\n",
              "      <td>NaN</td>\n",
              "      <td>6</td>\n",
              "      <td>9</td>\n",
              "      <td>2019</td>\n",
              "      <td>fb0abf9e-fd1a-44dd-b5c0-2834d5a4b81c2019-09-06</td>\n",
              "    </tr>\n",
              "    <tr>\n",
              "      <th>2</th>\n",
              "      <td>7d440441-e67a-4d36-b324-80ffd636d166</td>\n",
              "      <td>HOMEPAGE</td>\n",
              "      <td>2019-09-01 12:05:10.322763+00:00</td>\n",
              "      <td>88aeaeb5-ec98-4859-852c-8abb483faf31</td>\n",
              "      <td>MOBILE</td>\n",
              "      <td>NaN</td>\n",
              "      <td>1</td>\n",
              "      <td>9</td>\n",
              "      <td>2019</td>\n",
              "      <td>7d440441-e67a-4d36-b324-80ffd636d1662019-09-01</td>\n",
              "    </tr>\n",
              "    <tr>\n",
              "      <th>3</th>\n",
              "      <td>7d440441-e67a-4d36-b324-80ffd636d166</td>\n",
              "      <td>ADD_TO_CART</td>\n",
              "      <td>2019-09-01 12:06:33.322763+00:00</td>\n",
              "      <td>934e306e-ecc6-472f-9ccb-12c8536910a2</td>\n",
              "      <td>MOBILE</td>\n",
              "      <td>{'product_id': 15315, 'quantity': 4, 'item_pri...</td>\n",
              "      <td>1</td>\n",
              "      <td>9</td>\n",
              "      <td>2019</td>\n",
              "      <td>7d440441-e67a-4d36-b324-80ffd636d1662019-09-01</td>\n",
              "    </tr>\n",
              "    <tr>\n",
              "      <th>4</th>\n",
              "      <td>7d440441-e67a-4d36-b324-80ffd636d166</td>\n",
              "      <td>BOOKING</td>\n",
              "      <td>2019-09-01 12:15:29.425431+00:00</td>\n",
              "      <td>9f4767a1-40fa-4c9c-9524-dfad18634d56</td>\n",
              "      <td>MOBILE</td>\n",
              "      <td>{'payment_status': 'Success'}</td>\n",
              "      <td>1</td>\n",
              "      <td>9</td>\n",
              "      <td>2019</td>\n",
              "      <td>7d440441-e67a-4d36-b324-80ffd636d1662019-09-01</td>\n",
              "    </tr>\n",
              "  </tbody>\n",
              "</table>\n",
              "</div>\n",
              "    <div class=\"colab-df-buttons\">\n",
              "\n",
              "  <div class=\"colab-df-container\">\n",
              "    <button class=\"colab-df-convert\" onclick=\"convertToInteractive('df-56929627-109d-4d9f-ba9b-31054e160fe0')\"\n",
              "            title=\"Convert this dataframe to an interactive table.\"\n",
              "            style=\"display:none;\">\n",
              "\n",
              "  <svg xmlns=\"http://www.w3.org/2000/svg\" height=\"24px\" viewBox=\"0 -960 960 960\">\n",
              "    <path d=\"M120-120v-720h720v720H120Zm60-500h600v-160H180v160Zm220 220h160v-160H400v160Zm0 220h160v-160H400v160ZM180-400h160v-160H180v160Zm440 0h160v-160H620v160ZM180-180h160v-160H180v160Zm440 0h160v-160H620v160Z\"/>\n",
              "  </svg>\n",
              "    </button>\n",
              "\n",
              "  <style>\n",
              "    .colab-df-container {\n",
              "      display:flex;\n",
              "      gap: 12px;\n",
              "    }\n",
              "\n",
              "    .colab-df-convert {\n",
              "      background-color: #E8F0FE;\n",
              "      border: none;\n",
              "      border-radius: 50%;\n",
              "      cursor: pointer;\n",
              "      display: none;\n",
              "      fill: #1967D2;\n",
              "      height: 32px;\n",
              "      padding: 0 0 0 0;\n",
              "      width: 32px;\n",
              "    }\n",
              "\n",
              "    .colab-df-convert:hover {\n",
              "      background-color: #E2EBFA;\n",
              "      box-shadow: 0px 1px 2px rgba(60, 64, 67, 0.3), 0px 1px 3px 1px rgba(60, 64, 67, 0.15);\n",
              "      fill: #174EA6;\n",
              "    }\n",
              "\n",
              "    .colab-df-buttons div {\n",
              "      margin-bottom: 4px;\n",
              "    }\n",
              "\n",
              "    [theme=dark] .colab-df-convert {\n",
              "      background-color: #3B4455;\n",
              "      fill: #D2E3FC;\n",
              "    }\n",
              "\n",
              "    [theme=dark] .colab-df-convert:hover {\n",
              "      background-color: #434B5C;\n",
              "      box-shadow: 0px 1px 3px 1px rgba(0, 0, 0, 0.15);\n",
              "      filter: drop-shadow(0px 1px 2px rgba(0, 0, 0, 0.3));\n",
              "      fill: #FFFFFF;\n",
              "    }\n",
              "  </style>\n",
              "\n",
              "    <script>\n",
              "      const buttonEl =\n",
              "        document.querySelector('#df-56929627-109d-4d9f-ba9b-31054e160fe0 button.colab-df-convert');\n",
              "      buttonEl.style.display =\n",
              "        google.colab.kernel.accessAllowed ? 'block' : 'none';\n",
              "\n",
              "      async function convertToInteractive(key) {\n",
              "        const element = document.querySelector('#df-56929627-109d-4d9f-ba9b-31054e160fe0');\n",
              "        const dataTable =\n",
              "          await google.colab.kernel.invokeFunction('convertToInteractive',\n",
              "                                                    [key], {});\n",
              "        if (!dataTable) return;\n",
              "\n",
              "        const docLinkHtml = 'Like what you see? Visit the ' +\n",
              "          '<a target=\"_blank\" href=https://colab.research.google.com/notebooks/data_table.ipynb>data table notebook</a>'\n",
              "          + ' to learn more about interactive tables.';\n",
              "        element.innerHTML = '';\n",
              "        dataTable['output_type'] = 'display_data';\n",
              "        await google.colab.output.renderOutput(dataTable, element);\n",
              "        const docLink = document.createElement('div');\n",
              "        docLink.innerHTML = docLinkHtml;\n",
              "        element.appendChild(docLink);\n",
              "      }\n",
              "    </script>\n",
              "  </div>\n",
              "\n",
              "\n",
              "<div id=\"df-c51c8a0e-5f0f-48ec-9e68-1b2f0d1d023a\">\n",
              "  <button class=\"colab-df-quickchart\" onclick=\"quickchart('df-c51c8a0e-5f0f-48ec-9e68-1b2f0d1d023a')\"\n",
              "            title=\"Suggest charts\"\n",
              "            style=\"display:none;\">\n",
              "\n",
              "<svg xmlns=\"http://www.w3.org/2000/svg\" height=\"24px\"viewBox=\"0 0 24 24\"\n",
              "     width=\"24px\">\n",
              "    <g>\n",
              "        <path d=\"M19 3H5c-1.1 0-2 .9-2 2v14c0 1.1.9 2 2 2h14c1.1 0 2-.9 2-2V5c0-1.1-.9-2-2-2zM9 17H7v-7h2v7zm4 0h-2V7h2v10zm4 0h-2v-4h2v4z\"/>\n",
              "    </g>\n",
              "</svg>\n",
              "  </button>\n",
              "\n",
              "<style>\n",
              "  .colab-df-quickchart {\n",
              "      --bg-color: #E8F0FE;\n",
              "      --fill-color: #1967D2;\n",
              "      --hover-bg-color: #E2EBFA;\n",
              "      --hover-fill-color: #174EA6;\n",
              "      --disabled-fill-color: #AAA;\n",
              "      --disabled-bg-color: #DDD;\n",
              "  }\n",
              "\n",
              "  [theme=dark] .colab-df-quickchart {\n",
              "      --bg-color: #3B4455;\n",
              "      --fill-color: #D2E3FC;\n",
              "      --hover-bg-color: #434B5C;\n",
              "      --hover-fill-color: #FFFFFF;\n",
              "      --disabled-bg-color: #3B4455;\n",
              "      --disabled-fill-color: #666;\n",
              "  }\n",
              "\n",
              "  .colab-df-quickchart {\n",
              "    background-color: var(--bg-color);\n",
              "    border: none;\n",
              "    border-radius: 50%;\n",
              "    cursor: pointer;\n",
              "    display: none;\n",
              "    fill: var(--fill-color);\n",
              "    height: 32px;\n",
              "    padding: 0;\n",
              "    width: 32px;\n",
              "  }\n",
              "\n",
              "  .colab-df-quickchart:hover {\n",
              "    background-color: var(--hover-bg-color);\n",
              "    box-shadow: 0 1px 2px rgba(60, 64, 67, 0.3), 0 1px 3px 1px rgba(60, 64, 67, 0.15);\n",
              "    fill: var(--button-hover-fill-color);\n",
              "  }\n",
              "\n",
              "  .colab-df-quickchart-complete:disabled,\n",
              "  .colab-df-quickchart-complete:disabled:hover {\n",
              "    background-color: var(--disabled-bg-color);\n",
              "    fill: var(--disabled-fill-color);\n",
              "    box-shadow: none;\n",
              "  }\n",
              "\n",
              "  .colab-df-spinner {\n",
              "    border: 2px solid var(--fill-color);\n",
              "    border-color: transparent;\n",
              "    border-bottom-color: var(--fill-color);\n",
              "    animation:\n",
              "      spin 1s steps(1) infinite;\n",
              "  }\n",
              "\n",
              "  @keyframes spin {\n",
              "    0% {\n",
              "      border-color: transparent;\n",
              "      border-bottom-color: var(--fill-color);\n",
              "      border-left-color: var(--fill-color);\n",
              "    }\n",
              "    20% {\n",
              "      border-color: transparent;\n",
              "      border-left-color: var(--fill-color);\n",
              "      border-top-color: var(--fill-color);\n",
              "    }\n",
              "    30% {\n",
              "      border-color: transparent;\n",
              "      border-left-color: var(--fill-color);\n",
              "      border-top-color: var(--fill-color);\n",
              "      border-right-color: var(--fill-color);\n",
              "    }\n",
              "    40% {\n",
              "      border-color: transparent;\n",
              "      border-right-color: var(--fill-color);\n",
              "      border-top-color: var(--fill-color);\n",
              "    }\n",
              "    60% {\n",
              "      border-color: transparent;\n",
              "      border-right-color: var(--fill-color);\n",
              "    }\n",
              "    80% {\n",
              "      border-color: transparent;\n",
              "      border-right-color: var(--fill-color);\n",
              "      border-bottom-color: var(--fill-color);\n",
              "    }\n",
              "    90% {\n",
              "      border-color: transparent;\n",
              "      border-bottom-color: var(--fill-color);\n",
              "    }\n",
              "  }\n",
              "</style>\n",
              "\n",
              "  <script>\n",
              "    async function quickchart(key) {\n",
              "      const quickchartButtonEl =\n",
              "        document.querySelector('#' + key + ' button');\n",
              "      quickchartButtonEl.disabled = true;  // To prevent multiple clicks.\n",
              "      quickchartButtonEl.classList.add('colab-df-spinner');\n",
              "      try {\n",
              "        const charts = await google.colab.kernel.invokeFunction(\n",
              "            'suggestCharts', [key], {});\n",
              "      } catch (error) {\n",
              "        console.error('Error during call to suggestCharts:', error);\n",
              "      }\n",
              "      quickchartButtonEl.classList.remove('colab-df-spinner');\n",
              "      quickchartButtonEl.classList.add('colab-df-quickchart-complete');\n",
              "    }\n",
              "    (() => {\n",
              "      let quickchartButtonEl =\n",
              "        document.querySelector('#df-c51c8a0e-5f0f-48ec-9e68-1b2f0d1d023a button');\n",
              "      quickchartButtonEl.style.display =\n",
              "        google.colab.kernel.accessAllowed ? 'block' : 'none';\n",
              "    })();\n",
              "  </script>\n",
              "</div>\n",
              "\n",
              "    </div>\n",
              "  </div>\n"
            ]
          },
          "metadata": {},
          "execution_count": 5
        }
      ],
      "source": [
        "#PREPROCESSING\n",
        "#extract the mm/dd/yyyy from the date field\n",
        "clickstream['event_time'] = pd.to_datetime(clickstream['event_time'])\n",
        "clickstream['event_day'] = clickstream['event_time'].dt.day\n",
        "clickstream['event_month'] = clickstream['event_time'].dt.month\n",
        "clickstream['event_year'] = clickstream['event_time'].dt.year\n",
        "\n",
        "#create unique session ID by concatenating session id and date of the session\n",
        "#this is because there are multiple sessions with the same session id on different date which makes it hard to analyze the data\n",
        "clickstream['unique_session_id'] = clickstream['session_id'] + clickstream['event_time'].dt.strftime('%Y-%m-%d')\n",
        "\n",
        "clickstream.head(5)"
      ]
    },
    {
      "cell_type": "markdown",
      "metadata": {
        "id": "Ur1m--a4Gv4L"
      },
      "source": [
        "#**Bounce Rate**\n",
        "the percentage of visitors who arrive at a digital storefront and “bounce,” leaving before ever progressing onto a second page. Bounce rates are calculated by dividing the number of one-page visits by the total number of visits to the site."
      ]
    },
    {
      "cell_type": "code",
      "execution_count": 6,
      "metadata": {
        "colab": {
          "base_uri": "https://localhost:8080/"
        },
        "id": "6mzfmuZIEmOk",
        "outputId": "24933449-36bd-40a7-c887-98ae05996882"
      },
      "outputs": [
        {
          "output_type": "stream",
          "name": "stdout",
          "text": [
            "1: Bounce Rate = 17.36%\n",
            "2: Bounce Rate = 17.71%\n",
            "3: Bounce Rate = 17.6%\n",
            "4: Bounce Rate = 17.37%\n",
            "5: Bounce Rate = 17.32%\n",
            "6: Bounce Rate = 16.88%\n",
            "7: Bounce Rate = 17.13%\n",
            "8: Bounce Rate = 17.43%\n",
            "9: Bounce Rate = 17.43%\n",
            "10: Bounce Rate = 17.1%\n",
            "11: Bounce Rate = 17.45%\n",
            "12: Bounce Rate = 17.41%\n"
          ]
        }
      ],
      "source": [
        "#Bounce rate in 2019\n",
        "#Here we define bounce rate as when user arrives at the HOMPAGE or PROMO_PAGE but doesn't perform the following actions:\n",
        "#1. CLICK i.e clicks on elements on the webpage\n",
        "#2. SCROLL i.e. scrolls the webpage\n",
        "#3. BOOKING i.e. pays or makes a transaction\n",
        "#4. SEARCH i.e. searches for an item\n",
        "#5. ADD_TO_CART i.e adds items to cart\n",
        "#6. ITEM_DETAIL i.e. views an item\n",
        "#7. ADD_PROMO i.e. adds promo coupon etc\n",
        "for i in range(1,13):\n",
        "\n",
        "  events = clickstream[(clickstream['event_year']==2019) & (clickstream['event_month'] == i)]\n",
        "  events = events.sort_values(by = 'event_time', ascending = True)\n",
        "  unique_sessions = pd.DataFrame(events.groupby('unique_session_id')['event_name'].agg(list))\n",
        "\n",
        "  unique_sessions_with_one_event = unique_sessions[unique_sessions['event_name'].apply(lambda x: len(x) == 1)]\n",
        "\n",
        "  unique_bounced_sessions = unique_sessions_with_one_event[unique_sessions_with_one_event['event_name'].apply(lambda x: x[0]).isin(['HOMEPAGE', 'PROMO_PAGE'])]\n",
        "\n",
        "  bounce_rate = round((len(unique_bounced_sessions) / len(unique_sessions)) * 100, 2)\n",
        "\n",
        "  print(str(i) + \": \" + \"Bounce Rate = \" + str(bounce_rate) + \"%\")"
      ]
    },
    {
      "cell_type": "markdown",
      "metadata": {
        "id": "1HOiiuhkLD0b"
      },
      "source": [
        "# **Conversion Rate**"
      ]
    },
    {
      "cell_type": "code",
      "source": [
        "#Conversion rate in 2019\n",
        "#Here we define a user to be converted if they made a purchase\n",
        "\n",
        "for i in range(1,13):\n",
        "\n",
        "  events = clickstream[(clickstream['event_year']==2019) & (clickstream['event_month'] == i)]\n",
        "  events = events.sort_values(by = 'event_time', ascending = True)\n",
        "  unique_sessions = pd.DataFrame(events.groupby('unique_session_id')['event_name'].agg(list))\n",
        "\n",
        "  unique_payment_sessions = unique_sessions[unique_sessions['event_name'].apply(lambda x: \"BOOKING\" in x)]\n",
        "\n",
        "  conversion_rate = round((len(unique_payment_sessions) / len(unique_sessions)) * 100,2)\n",
        "\n",
        "  print(str(i) + \": \" + \"Conversion Rate = \" + str(conversion_rate) + \"%\")"
      ],
      "metadata": {
        "id": "_q6fRwhsNNiJ",
        "colab": {
          "base_uri": "https://localhost:8080/"
        },
        "outputId": "06e22823-28c6-4eab-ed34-251fcbe5b76c"
      },
      "execution_count": 18,
      "outputs": [
        {
          "output_type": "stream",
          "name": "stdout",
          "text": [
            "1: Conversion Rate = 17.85%\n",
            "2: Conversion Rate = 18.03%\n",
            "3: Conversion Rate = 18.07%\n",
            "4: Conversion Rate = 18.14%\n",
            "5: Conversion Rate = 17.85%\n",
            "6: Conversion Rate = 17.59%\n",
            "7: Conversion Rate = 18.54%\n",
            "8: Conversion Rate = 17.89%\n",
            "9: Conversion Rate = 18.07%\n",
            "10: Conversion Rate = 17.75%\n",
            "11: Conversion Rate = 18.1%\n",
            "12: Conversion Rate = 17.64%\n"
          ]
        }
      ]
    },
    {
      "cell_type": "markdown",
      "metadata": {
        "id": "mMwqG141Hq3n"
      },
      "source": [
        "# Testing"
      ]
    },
    {
      "cell_type": "code",
      "execution_count": null,
      "metadata": {
        "id": "LdnQN4cnHst9"
      },
      "outputs": [],
      "source": [
        "#flatten the event_metadata column\n",
        "\n",
        "#drop rows with na values\n",
        "clickstream_no_na = clickstream.dropna().copy()\n",
        "\n",
        "#create a new column and fill it with dummy value = 1\n",
        "clickstream_no_na['test_col'] = \"1\"\n",
        "\n",
        "#apply the function to convert event_metadata column values from string to JSON\n",
        "clickstream_no_na['test_col'] = clickstream_no_na['event_metadata'].apply(func)\n",
        "\n",
        "#impute the flattened columns to the old dataset\n",
        "clickstream_no_na_flattened = pd.concat([clickstream_no_na, json_normalize(clickstream_no_na['test_col'])], axis=1)"
      ]
    }
  ],
  "metadata": {
    "colab": {
      "provenance": [],
      "gpuType": "T4",
      "authorship_tag": "ABX9TyOverx0bwyHBNW+VR0y5D+n",
      "include_colab_link": true
    },
    "kernelspec": {
      "display_name": "Python 3",
      "name": "python3"
    },
    "language_info": {
      "name": "python"
    }
  },
  "nbformat": 4,
  "nbformat_minor": 0
}